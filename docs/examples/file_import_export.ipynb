{
 "cells": [
  {
   "cell_type": "code",
   "execution_count": 30,
   "id": "b12fc821",
   "metadata": {},
   "outputs": [
    {
     "name": "stdout",
     "output_type": "stream",
     "text": [
      "Temporary files will be stored in: /var/folders/pz/_dlzclyn4mjgvngf1dpfg_880000gn/T\n"
     ]
    }
   ],
   "source": [
    "from laptrack import LapTrack\n",
    "from laptrack import data_conversion\n",
    "from laptrack import datasets\n",
    "import geff\n",
    "import tempfile\n",
    "import napari\n",
    "from skimage.measure import regionprops_table\n",
    "import pandas as pd\n",
    "from pathlib import Path\n",
    "import zarr\n",
    "\n",
    "tmp_path = Path(tempfile.gettempdir())\n",
    "print(f\"Temporary files will be stored in: {tmp_path}\")\n",
    "!open {tmp_path}"
   ]
  },
  {
   "cell_type": "markdown",
   "id": "5d299db0",
   "metadata": {},
   "source": [
    "# Example of reading / saving data from / to GEFF"
   ]
  },
  {
   "cell_type": "markdown",
   "id": "bc43f159",
   "metadata": {},
   "source": [
    "This example illustrates how we can save the tracked data into a GEFF (Graph Exchange File Format)."
   ]
  },
  {
   "cell_type": "markdown",
   "id": "8bd6caf9",
   "metadata": {},
   "source": [
    "## Calculate region properties "
   ]
  },
  {
   "cell_type": "code",
   "execution_count": 31,
   "id": "d68146f4",
   "metadata": {},
   "outputs": [
    {
     "data": {
      "text/html": [
       "<div>\n",
       "<style scoped>\n",
       "    .dataframe tbody tr th:only-of-type {\n",
       "        vertical-align: middle;\n",
       "    }\n",
       "\n",
       "    .dataframe tbody tr th {\n",
       "        vertical-align: top;\n",
       "    }\n",
       "\n",
       "    .dataframe thead th {\n",
       "        text-align: right;\n",
       "    }\n",
       "</style>\n",
       "<table border=\"1\" class=\"dataframe\">\n",
       "  <thead>\n",
       "    <tr style=\"text-align: right;\">\n",
       "      <th></th>\n",
       "      <th>seg_id</th>\n",
       "      <th>y</th>\n",
       "      <th>x</th>\n",
       "      <th>frame</th>\n",
       "    </tr>\n",
       "  </thead>\n",
       "  <tbody>\n",
       "    <tr>\n",
       "      <th>0</th>\n",
       "      <td>1</td>\n",
       "      <td>137.033613</td>\n",
       "      <td>96.336134</td>\n",
       "      <td>0</td>\n",
       "    </tr>\n",
       "    <tr>\n",
       "      <th>1</th>\n",
       "      <td>2</td>\n",
       "      <td>145.068966</td>\n",
       "      <td>178.988506</td>\n",
       "      <td>0</td>\n",
       "    </tr>\n",
       "    <tr>\n",
       "      <th>2</th>\n",
       "      <td>3</td>\n",
       "      <td>123.091743</td>\n",
       "      <td>203.266055</td>\n",
       "      <td>0</td>\n",
       "    </tr>\n",
       "    <tr>\n",
       "      <th>3</th>\n",
       "      <td>4</td>\n",
       "      <td>62.716216</td>\n",
       "      <td>141.290541</td>\n",
       "      <td>0</td>\n",
       "    </tr>\n",
       "    <tr>\n",
       "      <th>4</th>\n",
       "      <td>5</td>\n",
       "      <td>32.976744</td>\n",
       "      <td>124.348837</td>\n",
       "      <td>0</td>\n",
       "    </tr>\n",
       "  </tbody>\n",
       "</table>\n",
       "</div>"
      ],
      "text/plain": [
       "   seg_id           y           x  frame\n",
       "0       1  137.033613   96.336134      0\n",
       "1       2  145.068966  178.988506      0\n",
       "2       3  123.091743  203.266055      0\n",
       "3       4   62.716216  141.290541      0\n",
       "4       5   32.976744  124.348837      0"
      ]
     },
     "execution_count": 31,
     "metadata": {},
     "output_type": "execute_result"
    }
   ],
   "source": [
    "image, labels = datasets.cell_segmentation()\n",
    "regionprops = []\n",
    "for frame, label in enumerate(labels):\n",
    "    df = pd.DataFrame(regionprops_table(label, properties=[\"label\", \"centroid\"]))\n",
    "    df[\"frame\"] = frame\n",
    "    regionprops.append(df)\n",
    "regionprops_df = pd.concat(regionprops).rename(\n",
    "    columns={\"centroid-0\": \"y\", \"centroid-1\": \"x\", \"label\": \"seg_id\"}\n",
    ")\n",
    "coordinate_cols = [\"y\", \"x\"]\n",
    "frame_col = \"frame\"\n",
    "regionprops_df.head()"
   ]
  },
  {
   "cell_type": "code",
   "execution_count": 32,
   "id": "b6e48f26",
   "metadata": {},
   "outputs": [
    {
     "data": {
      "text/plain": [
       "<Points layer 'centroids' at 0x15a72acc0>"
      ]
     },
     "execution_count": 32,
     "metadata": {},
     "output_type": "execute_result"
    }
   ],
   "source": [
    "viewer = napari.Viewer()\n",
    "viewer.add_image(image, name=\"image\")\n",
    "viewer.add_labels(labels, name=\"labels\")\n",
    "viewer.add_points(\n",
    "    regionprops_df[[frame_col] + coordinate_cols],\n",
    "    name=\"centroids\",\n",
    "    properties=regionprops_df,\n",
    "    size=5,\n",
    "    face_color=\"red\",\n",
    ")"
   ]
  },
  {
   "cell_type": "markdown",
   "id": "a35a4ec1",
   "metadata": {},
   "source": [
    "## Track with LapTrack"
   ]
  },
  {
   "cell_type": "code",
   "execution_count": 33,
   "id": "5fec4807",
   "metadata": {},
   "outputs": [],
   "source": [
    "lt = LapTrack(\n",
    "    metric=\"sqeuclidean\",\n",
    "    cutoff=15**2,\n",
    "    splitting_metric=\"sqeuclidean\",\n",
    "    merging_metric=\"sqeuclidean\",\n",
    "    splitting_cutoff=15**2,\n",
    "    merging_cutoff=15**2,\n",
    ")"
   ]
  },
  {
   "cell_type": "code",
   "execution_count": 34,
   "id": "49ae32cc",
   "metadata": {},
   "outputs": [
    {
     "data": {
      "text/html": [
       "<div>\n",
       "<style scoped>\n",
       "    .dataframe tbody tr th:only-of-type {\n",
       "        vertical-align: middle;\n",
       "    }\n",
       "\n",
       "    .dataframe tbody tr th {\n",
       "        vertical-align: top;\n",
       "    }\n",
       "\n",
       "    .dataframe thead th {\n",
       "        text-align: right;\n",
       "    }\n",
       "</style>\n",
       "<table border=\"1\" class=\"dataframe\">\n",
       "  <thead>\n",
       "    <tr style=\"text-align: right;\">\n",
       "      <th></th>\n",
       "      <th>seg_id</th>\n",
       "      <th>y</th>\n",
       "      <th>x</th>\n",
       "      <th>frame</th>\n",
       "      <th>tree_id</th>\n",
       "      <th>track_id</th>\n",
       "    </tr>\n",
       "  </thead>\n",
       "  <tbody>\n",
       "    <tr>\n",
       "      <th>0</th>\n",
       "      <td>1</td>\n",
       "      <td>137.033613</td>\n",
       "      <td>96.336134</td>\n",
       "      <td>0</td>\n",
       "      <td>0</td>\n",
       "      <td>0</td>\n",
       "    </tr>\n",
       "    <tr>\n",
       "      <th>1</th>\n",
       "      <td>2</td>\n",
       "      <td>145.068966</td>\n",
       "      <td>178.988506</td>\n",
       "      <td>0</td>\n",
       "      <td>1</td>\n",
       "      <td>1</td>\n",
       "    </tr>\n",
       "    <tr>\n",
       "      <th>2</th>\n",
       "      <td>3</td>\n",
       "      <td>123.091743</td>\n",
       "      <td>203.266055</td>\n",
       "      <td>0</td>\n",
       "      <td>2</td>\n",
       "      <td>2</td>\n",
       "    </tr>\n",
       "    <tr>\n",
       "      <th>3</th>\n",
       "      <td>4</td>\n",
       "      <td>62.716216</td>\n",
       "      <td>141.290541</td>\n",
       "      <td>0</td>\n",
       "      <td>3</td>\n",
       "      <td>3</td>\n",
       "    </tr>\n",
       "    <tr>\n",
       "      <th>4</th>\n",
       "      <td>5</td>\n",
       "      <td>32.976744</td>\n",
       "      <td>124.348837</td>\n",
       "      <td>0</td>\n",
       "      <td>4</td>\n",
       "      <td>4</td>\n",
       "    </tr>\n",
       "  </tbody>\n",
       "</table>\n",
       "</div>"
      ],
      "text/plain": [
       "   seg_id           y           x  frame  tree_id  track_id\n",
       "0       1  137.033613   96.336134      0        0         0\n",
       "1       2  145.068966  178.988506      0        1         1\n",
       "2       3  123.091743  203.266055      0        2         2\n",
       "3       4   62.716216  141.290541      0        3         3\n",
       "4       5   32.976744  124.348837      0        4         4"
      ]
     },
     "execution_count": 34,
     "metadata": {},
     "output_type": "execute_result"
    }
   ],
   "source": [
    "track_df, split_df, merge_df = lt.predict_dataframe(\n",
    "    regionprops_df,\n",
    "    coordinate_cols=coordinate_cols,\n",
    "    frame_col=frame_col,\n",
    ")\n",
    "\n",
    "track_df.head()"
   ]
  },
  {
   "cell_type": "markdown",
   "id": "d9ae947e",
   "metadata": {},
   "source": [
    "## Save to GEFF"
   ]
  },
  {
   "cell_type": "code",
   "execution_count": 35,
   "id": "8fe2bf20",
   "metadata": {},
   "outputs": [],
   "source": [
    "tree_geff = data_conversion.dataframes_to_geff_networkx(\n",
    "    track_df,\n",
    "    split_df,\n",
    "    merge_df,\n",
    "    frame_col=frame_col,\n",
    ")"
   ]
  },
  {
   "cell_type": "code",
   "execution_count": 36,
   "id": "56da38ad",
   "metadata": {},
   "outputs": [
    {
     "data": {
      "text/plain": [
       "{'frame': 0,\n",
       " 'seg_id': np.float64(1.0),\n",
       " 'y': np.float64(137.03361344537817),\n",
       " 'x': np.float64(96.33613445378151),\n",
       " 'tree_id': np.float64(0.0),\n",
       " 'track_id': np.float64(0.0)}"
      ]
     },
     "execution_count": 36,
     "metadata": {},
     "output_type": "execute_result"
    }
   ],
   "source": [
    "tree_geff.nodes[0]"
   ]
  },
  {
   "cell_type": "code",
   "execution_count": 37,
   "id": "3329e792",
   "metadata": {},
   "outputs": [
    {
     "name": "stderr",
     "output_type": "stream",
     "text": [
      "/Users/fukai/projects/laptrack/.venv/lib/python3.12/site-packages/geff/networkx/io.py:142: UserWarning: Both axis lists and metadata provided. Overriding metadata with axis lists.\n",
      "  axis_names, axis_units, axis_types = _get_graph_existing_metadata(\n",
      "/Users/fukai/projects/laptrack/.venv/lib/python3.12/site-packages/pydantic/main.py:253: UserWarning: Temporal unit frame not in valid OME-Zarr units [None, 'attosecond', 'centisecond', 'day', 'decisecond', 'exasecond', 'femtosecond', 'gigasecond', 'hectosecond', 'hour', 'kilosecond', 'megasecond', 'microsecond', 'millisecond', 'minute', 'nanosecond', 'petasecond', 'picosecond', 'second', 'terasecond', 'yoctosecond', 'yottasecond', 'zeptosecond', 'zettasecond']. Reader applications may not know what to do with this information.\n",
      "  validated_self = self.__pydantic_validator__.validate_python(data, self_instance=self)\n",
      "/Users/fukai/projects/laptrack/.venv/lib/python3.12/site-packages/pydantic/main.py:253: UserWarning: Spatial unit px not in valid OME-Zarr units [None, 'angstrom', 'attometer', 'centimeter', 'decimeter', 'exameter', 'femtometer', 'foot', 'gigameter', 'hectometer', 'inch', 'kilometer', 'megameter', 'meter', 'micrometer', 'mile', 'millimeter', 'nanometer', 'parsec', 'petameter', 'picometer', 'terameter', 'yard', 'yoctometer', 'yottameter', 'zeptometer', 'zettameter']. Reader applications may not know what to do with this information.\n",
      "  validated_self = self.__pydantic_validator__.validate_python(data, self_instance=self)\n",
      "/Users/fukai/projects/laptrack/.venv/lib/python3.12/site-packages/pydantic/_internal/_validators.py:52: UserWarning: Temporal unit frame not in valid OME-Zarr units [None, 'attosecond', 'centisecond', 'day', 'decisecond', 'exasecond', 'femtosecond', 'gigasecond', 'hectosecond', 'hour', 'kilosecond', 'megasecond', 'microsecond', 'millisecond', 'minute', 'nanosecond', 'petasecond', 'picosecond', 'second', 'terasecond', 'yoctosecond', 'yottasecond', 'zeptosecond', 'zettasecond']. Reader applications may not know what to do with this information.\n",
      "  v_list = validator(input_value)\n",
      "/Users/fukai/projects/laptrack/.venv/lib/python3.12/site-packages/pydantic/_internal/_validators.py:52: UserWarning: Spatial unit px not in valid OME-Zarr units [None, 'angstrom', 'attometer', 'centimeter', 'decimeter', 'exameter', 'femtometer', 'foot', 'gigameter', 'hectometer', 'inch', 'kilometer', 'megameter', 'meter', 'micrometer', 'mile', 'millimeter', 'nanometer', 'parsec', 'petameter', 'picometer', 'terameter', 'yard', 'yoctometer', 'yottameter', 'zeptometer', 'zettameter']. Reader applications may not know what to do with this information.\n",
      "  v_list = validator(input_value)\n"
     ]
    },
    {
     "name": "stdout",
     "output_type": "stream",
     "text": [
      "total 0\n",
      "drwxr-xr-x 4 fukai staff 128 Jul 23 16:18 frame\n",
      "drwxr-xr-x 4 fukai staff 128 Jul 23 16:18 seg_id\n",
      "drwxr-xr-x 4 fukai staff 128 Jul 23 16:18 track_id\n",
      "drwxr-xr-x 4 fukai staff 128 Jul 23 16:18 tree_id\n",
      "drwxr-xr-x 4 fukai staff 128 Jul 23 16:18 x\n",
      "drwxr-xr-x 4 fukai staff 128 Jul 23 16:18 y\n"
     ]
    }
   ],
   "source": [
    "zarr_path = Path(tmp_path) / \"cell_segmentation.zarr\"\n",
    "ds = zarr.open(zarr_path, mode=\"w\")\n",
    "ds.create_dataset(\"image\", data=image)\n",
    "ds.create_dataset(\"labels\", data=labels)\n",
    "\n",
    "meta = geff.GeffMetadata(\n",
    "    related_objects=[\n",
    "        {\"type\": \"image\", \"path\": \"../image\"},\n",
    "        {\"type\": \"labels\", \"path\": \"../labels\", \"label_prop\": \"seg_id\"},\n",
    "    ],\n",
    "    track_node_props={\"lineage\": \"tree_id\", \"tracklet\": \"track_id\"},\n",
    "    directed=True,\n",
    ")\n",
    "\n",
    "geff.write_nx(\n",
    "    tree_geff,\n",
    "    zarr_path / \"track.geff\",\n",
    "    metadata=meta,\n",
    "    axis_names=[frame_col] + coordinate_cols,\n",
    "    axis_types=[\"time\", \"space\", \"space\"],\n",
    "    axis_units=[\"frame\", \"px\", \"px\"],\n",
    ")\n",
    "geff.validate(zarr_path / \"track.geff\")\n",
    "!ls -lh {zarr_path}/track.geff/nodes/props/"
   ]
  },
  {
   "cell_type": "markdown",
   "id": "0e2feb77",
   "metadata": {},
   "source": [
    "# Command line tool for tracking"
   ]
  },
  {
   "cell_type": "code",
   "execution_count": 38,
   "id": "274b9984",
   "metadata": {},
   "outputs": [],
   "source": [
    "regionprops_df.to_csv(tmp_path / \"regionprops.csv\", index=False)"
   ]
  },
  {
   "cell_type": "code",
   "execution_count": 39,
   "id": "23ae9d02",
   "metadata": {},
   "outputs": [],
   "source": [
    "meta = geff.GeffMetadata(\n",
    "    axes=[\n",
    "        {\"name\": \"frame\", \"type\": \"time\", \"unit\": \"frame\"},\n",
    "        {\"name\": \"y\", \"type\": \"space\", \"unit\": \"px\"},\n",
    "        {\"name\": \"x\", \"type\": \"space\", \"unit\": \"px\"},\n",
    "    ],\n",
    "    related_objects=[\n",
    "        {\"type\": \"image\", \"path\": \"../image\"},\n",
    "        {\"type\": \"labels\", \"path\": \"../labels\", \"label_prop\": \"seg_id\"},\n",
    "    ],\n",
    "    track_node_props={\"lineage\": \"tree_id\", \"tracklet\": \"track_id\"},\n",
    "    directed=True,\n",
    ")\n",
    "with open(tmp_path / \"metadata.json\", \"w\") as f:\n",
    "    f.write(meta.model_dump_json(indent=2))"
   ]
  },
  {
   "cell_type": "code",
   "execution_count": 40,
   "id": "dc19d5a6",
   "metadata": {},
   "outputs": [
    {
     "name": "stdout",
     "output_type": "stream",
     "text": [
      "rm: cannot remove '/var/folders/pz/_dlzclyn4mjgvngf1dpfg_880000gn/T/cell_segmentation.zarr/tracks2.geff': No such file or directory\n",
      "/Users/fukai/projects/laptrack/.venv/lib/python3.12/site-packages/pydantic/main.py:746: UserWarning: Temporal unit frame not in valid OME-Zarr units [None, 'attosecond', 'centisecond', 'day', 'decisecond', 'exasecond', 'femtosecond', 'gigasecond', 'hectosecond', 'hour', 'kilosecond', 'megasecond', 'microsecond', 'millisecond', 'minute', 'nanosecond', 'petasecond', 'picosecond', 'second', 'terasecond', 'yoctosecond', 'yottasecond', 'zeptosecond', 'zettasecond']. Reader applications may not know what to do with this information.\n",
      "  return cls.__pydantic_validator__.validate_json(\n",
      "/Users/fukai/projects/laptrack/.venv/lib/python3.12/site-packages/pydantic/main.py:746: UserWarning: Spatial unit px not in valid OME-Zarr units [None, 'angstrom', 'attometer', 'centimeter', 'decimeter', 'exameter', 'femtometer', 'foot', 'gigameter', 'hectometer', 'inch', 'kilometer', 'megameter', 'meter', 'micrometer', 'mile', 'millimeter', 'nanometer', 'parsec', 'petameter', 'picometer', 'terameter', 'yard', 'yoctometer', 'yottameter', 'zeptometer', 'zettameter']. Reader applications may not know what to do with this information.\n",
      "  return cls.__pydantic_validator__.validate_json(\n",
      "/Users/fukai/projects/laptrack/.venv/lib/python3.12/site-packages/pydantic/main.py:253: UserWarning: Temporal unit frame not in valid OME-Zarr units [None, 'attosecond', 'centisecond', 'day', 'decisecond', 'exasecond', 'femtosecond', 'gigasecond', 'hectosecond', 'hour', 'kilosecond', 'megasecond', 'microsecond', 'millisecond', 'minute', 'nanosecond', 'petasecond', 'picosecond', 'second', 'terasecond', 'yoctosecond', 'yottasecond', 'zeptosecond', 'zettasecond']. Reader applications may not know what to do with this information.\n",
      "  validated_self = self.__pydantic_validator__.validate_python(data, self_instance=self)\n",
      "/Users/fukai/projects/laptrack/.venv/lib/python3.12/site-packages/pydantic/main.py:253: UserWarning: Spatial unit px not in valid OME-Zarr units [None, 'angstrom', 'attometer', 'centimeter', 'decimeter', 'exameter', 'femtometer', 'foot', 'gigameter', 'hectometer', 'inch', 'kilometer', 'megameter', 'meter', 'micrometer', 'mile', 'millimeter', 'nanometer', 'parsec', 'petameter', 'picometer', 'terameter', 'yard', 'yoctometer', 'yottameter', 'zeptometer', 'zettameter']. Reader applications may not know what to do with this information.\n",
      "  validated_self = self.__pydantic_validator__.validate_python(data, self_instance=self)\n",
      "/Users/fukai/projects/laptrack/.venv/lib/python3.12/site-packages/pydantic/_internal/_validators.py:52: UserWarning: Temporal unit frame not in valid OME-Zarr units [None, 'attosecond', 'centisecond', 'day', 'decisecond', 'exasecond', 'femtosecond', 'gigasecond', 'hectosecond', 'hour', 'kilosecond', 'megasecond', 'microsecond', 'millisecond', 'minute', 'nanosecond', 'petasecond', 'picosecond', 'second', 'terasecond', 'yoctosecond', 'yottasecond', 'zeptosecond', 'zettasecond']. Reader applications may not know what to do with this information.\n",
      "  v_list = validator(input_value)\n",
      "/Users/fukai/projects/laptrack/.venv/lib/python3.12/site-packages/pydantic/_internal/_validators.py:52: UserWarning: Spatial unit px not in valid OME-Zarr units [None, 'angstrom', 'attometer', 'centimeter', 'decimeter', 'exameter', 'femtometer', 'foot', 'gigameter', 'hectometer', 'inch', 'kilometer', 'megameter', 'meter', 'micrometer', 'mile', 'millimeter', 'nanometer', 'parsec', 'petameter', 'picometer', 'terameter', 'yard', 'yoctometer', 'yottameter', 'zeptometer', 'zettameter']. Reader applications may not know what to do with this information.\n",
      "  v_list = validator(input_value)\n"
     ]
    }
   ],
   "source": [
    "!rm -r {zarr_path}/tracks2.geff\n",
    "!laptrack track --csv_path {tmp_path}/regionprops.csv \\\n",
    "    --metadata_path {tmp_path}/metadata.json \\\n",
    "    --output_path {zarr_path}/tracks2.geff \\\n",
    "    --coordinate_cols y x \\\n",
    "    --frame_col frame \\\n",
    "    --metric sqeuclidean \\\n",
    "    --cutoff 225 \\\n",
    "    --splitting_metric sqeuclidean \\\n",
    "    --splitting_cutoff 225 \\"
   ]
  },
  {
   "cell_type": "markdown",
   "id": "43841c0a",
   "metadata": {},
   "source": [
    "# Viewering in napari"
   ]
  },
  {
   "cell_type": "code",
   "execution_count": 27,
   "id": "3f6de142",
   "metadata": {},
   "outputs": [
    {
     "name": "stderr",
     "output_type": "stream",
     "text": [
      "/Users/fukai/projects/laptrack/.venv/lib/python3.12/site-packages/pydantic/_internal/_validators.py:52: UserWarning: Temporal unit frame not in valid OME-Zarr units [None, 'attosecond', 'centisecond', 'day', 'decisecond', 'exasecond', 'femtosecond', 'gigasecond', 'hectosecond', 'hour', 'kilosecond', 'megasecond', 'microsecond', 'millisecond', 'minute', 'nanosecond', 'petasecond', 'picosecond', 'second', 'terasecond', 'yoctosecond', 'yottasecond', 'zeptosecond', 'zettasecond']. Reader applications may not know what to do with this information.\n",
      "  v_list = validator(input_value)\n",
      "/Users/fukai/projects/laptrack/.venv/lib/python3.12/site-packages/pydantic/_internal/_validators.py:52: UserWarning: Spatial unit px not in valid OME-Zarr units [None, 'angstrom', 'attometer', 'centimeter', 'decimeter', 'exameter', 'femtometer', 'foot', 'gigameter', 'hectometer', 'inch', 'kilometer', 'megameter', 'meter', 'micrometer', 'mile', 'millimeter', 'nanometer', 'parsec', 'petameter', 'picometer', 'terameter', 'yard', 'yoctometer', 'yottameter', 'zeptometer', 'zettameter']. Reader applications may not know what to do with this information.\n",
      "  v_list = validator(input_value)\n",
      "/Users/fukai/projects/laptrack/.venv/lib/python3.12/site-packages/napari_geff/_reader.py:152: SettingWithCopyWarning: \n",
      "A value is trying to be set on a copy of a slice from a DataFrame\n",
      "\n",
      "See the caveats in the documentation: https://pandas.pydata.org/pandas-docs/stable/user_guide/indexing.html#returning-a-view-versus-a-copy\n",
      "  tracks_napari.sort_values(\n"
     ]
    }
   ],
   "source": [
    "import napari\n",
    "\n",
    "viewer = napari.Viewer()"
   ]
  },
  {
   "cell_type": "markdown",
   "id": "760af671",
   "metadata": {},
   "source": [
    "Drag and drop the `cell_segmentation.zarr/track.geff` file into the viewer to visualize the image and labels."
   ]
  }
 ],
 "metadata": {
  "kernelspec": {
   "display_name": ".venv",
   "language": "python",
   "name": "python3"
  },
  "language_info": {
   "codemirror_mode": {
    "name": "ipython",
    "version": 3
   },
   "file_extension": ".py",
   "mimetype": "text/x-python",
   "name": "python",
   "nbconvert_exporter": "python",
   "pygments_lexer": "ipython3",
   "version": "3.12.11"
  }
 },
 "nbformat": 4,
 "nbformat_minor": 5
}
