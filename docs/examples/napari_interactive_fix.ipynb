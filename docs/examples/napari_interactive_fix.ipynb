{
 "cells": [
  {
   "cell_type": "markdown",
   "metadata": {},
   "source": [
    "# Tracking with manually annotated edges"
   ]
  },
  {
   "cell_type": "markdown",
   "metadata": {},
   "source": [
    "One important feature of `LapTrack` is tracking particles with preserving the ground-truth (for example manually annotated) point-to-point connections. This notebooks demonstrates its example usage with `napari`."
   ]
  },
  {
   "cell_type": "code",
   "execution_count": null,
   "metadata": {},
   "outputs": [],
   "source": [
    "%pip install -q --upgrade -r requirements.txt"
   ]
  },
  {
   "cell_type": "markdown",
   "metadata": {},
   "source": [
    "## Importing packages"
   ]
  },
  {
   "cell_type": "code",
   "execution_count": 1,
   "metadata": {},
   "outputs": [],
   "source": [
    "import napari\n",
    "import numpy as np\n",
    "import pandas as pd\n",
    "import json\n",
    "from IPython.display import display\n",
    "from skimage.io import imread\n",
    "from skimage.measure import regionprops_table\n",
    "from matplotlib import pyplot as plt\n",
    "\n",
    "from laptrack import LapTrack"
   ]
  },
  {
   "cell_type": "markdown",
   "metadata": {},
   "source": [
    "## Loading data"
   ]
  },
  {
   "cell_type": "markdown",
   "metadata": {},
   "source": [
    "Load images and show them in the viewer."
   ]
  },
  {
   "cell_type": "code",
   "execution_count": 2,
   "metadata": {},
   "outputs": [],
   "source": [
    "images = imread(\"napari_interactive_fix_data/example_images.tif\")\n",
    "labels = imread(\"napari_interactive_fix_data/example_label.tif\")"
   ]
  },
  {
   "cell_type": "code",
   "execution_count": 3,
   "metadata": {},
   "outputs": [],
   "source": [
    "viewer = napari.Viewer()\n",
    "viewer.add_image(images, name=\"images\")\n",
    "viewer.add_labels(labels, name=\"labels\")\n",
    "original_camera_state = viewer.camera.dict()\n",
    "with open(\"napari_interactive_fix_data/camera_state.json\", \"r\") as f:\n",
    "    camera_state = json.load(f)"
   ]
  },
  {
   "cell_type": "markdown",
   "metadata": {},
   "source": [
    "## Calculating centroids of the segmentation"
   ]
  },
  {
   "cell_type": "markdown",
   "metadata": {},
   "source": [
    "Calculate centroids of each segmentation by `regionprops_table`."
   ]
  },
  {
   "cell_type": "code",
   "execution_count": 4,
   "metadata": {},
   "outputs": [
    {
     "data": {
      "text/html": [
       "<div>\n",
       "<style scoped>\n",
       "    .dataframe tbody tr th:only-of-type {\n",
       "        vertical-align: middle;\n",
       "    }\n",
       "\n",
       "    .dataframe tbody tr th {\n",
       "        vertical-align: top;\n",
       "    }\n",
       "\n",
       "    .dataframe thead th {\n",
       "        text-align: right;\n",
       "    }\n",
       "</style>\n",
       "<table border=\"1\" class=\"dataframe\">\n",
       "  <thead>\n",
       "    <tr style=\"text-align: right;\">\n",
       "      <th></th>\n",
       "      <th>label</th>\n",
       "      <th>centroid-0</th>\n",
       "      <th>centroid-1</th>\n",
       "      <th>frame</th>\n",
       "    </tr>\n",
       "  </thead>\n",
       "  <tbody>\n",
       "    <tr>\n",
       "      <th>0</th>\n",
       "      <td>3</td>\n",
       "      <td>103.091603</td>\n",
       "      <td>195.816794</td>\n",
       "      <td>0</td>\n",
       "    </tr>\n",
       "    <tr>\n",
       "      <th>1</th>\n",
       "      <td>25</td>\n",
       "      <td>151.812048</td>\n",
       "      <td>15.674699</td>\n",
       "      <td>0</td>\n",
       "    </tr>\n",
       "    <tr>\n",
       "      <th>2</th>\n",
       "      <td>35</td>\n",
       "      <td>31.552063</td>\n",
       "      <td>43.740668</td>\n",
       "      <td>0</td>\n",
       "    </tr>\n",
       "    <tr>\n",
       "      <th>3</th>\n",
       "      <td>59</td>\n",
       "      <td>60.389432</td>\n",
       "      <td>76.156556</td>\n",
       "      <td>0</td>\n",
       "    </tr>\n",
       "    <tr>\n",
       "      <th>4</th>\n",
       "      <td>64</td>\n",
       "      <td>125.100457</td>\n",
       "      <td>21.646119</td>\n",
       "      <td>0</td>\n",
       "    </tr>\n",
       "  </tbody>\n",
       "</table>\n",
       "</div>"
      ],
      "text/plain": [
       "   label  centroid-0  centroid-1  frame\n",
       "0      3  103.091603  195.816794      0\n",
       "1     25  151.812048   15.674699      0\n",
       "2     35   31.552063   43.740668      0\n",
       "3     59   60.389432   76.156556      0\n",
       "4     64  125.100457   21.646119      0"
      ]
     },
     "metadata": {},
     "output_type": "display_data"
    }
   ],
   "source": [
    "def calc_frame_regionprops(labels):  # noqa: E302\n",
    "    dfs = []\n",
    "    for frame in range(labels.shape[0]):\n",
    "        df = pd.DataFrame(\n",
    "            regionprops_table(labels[frame], properties=[\"label\", \"centroid\"])\n",
    "        )\n",
    "        df[\"frame\"] = frame\n",
    "        dfs.append(df)\n",
    "    return pd.concat(dfs)\n",
    "\n",
    "\n",
    "regionprops_df = calc_frame_regionprops(labels)\n",
    "display(regionprops_df.head())"
   ]
  },
  {
   "cell_type": "markdown",
   "metadata": {},
   "source": [
    "## Tracking by LapTrack"
   ]
  },
  {
   "cell_type": "markdown",
   "metadata": {},
   "source": [
    "Tracking the centroids using the default `sqeuclidean` metric."
   ]
  },
  {
   "cell_type": "code",
   "execution_count": 5,
   "metadata": {},
   "outputs": [
    {
     "data": {
      "text/html": [
       "<div>\n",
       "<style scoped>\n",
       "    .dataframe tbody tr th:only-of-type {\n",
       "        vertical-align: middle;\n",
       "    }\n",
       "\n",
       "    .dataframe tbody tr th {\n",
       "        vertical-align: top;\n",
       "    }\n",
       "\n",
       "    .dataframe thead th {\n",
       "        text-align: right;\n",
       "    }\n",
       "</style>\n",
       "<table border=\"1\" class=\"dataframe\">\n",
       "  <thead>\n",
       "    <tr style=\"text-align: right;\">\n",
       "      <th></th>\n",
       "      <th></th>\n",
       "      <th>label</th>\n",
       "      <th>centroid-0</th>\n",
       "      <th>centroid-1</th>\n",
       "      <th>frame_y</th>\n",
       "      <th>tree_id</th>\n",
       "      <th>track_id</th>\n",
       "    </tr>\n",
       "    <tr>\n",
       "      <th>frame</th>\n",
       "      <th>index</th>\n",
       "      <th></th>\n",
       "      <th></th>\n",
       "      <th></th>\n",
       "      <th></th>\n",
       "      <th></th>\n",
       "      <th></th>\n",
       "    </tr>\n",
       "  </thead>\n",
       "  <tbody>\n",
       "    <tr>\n",
       "      <th rowspan=\"5\" valign=\"top\">0</th>\n",
       "      <th>0</th>\n",
       "      <td>3</td>\n",
       "      <td>103.091603</td>\n",
       "      <td>195.816794</td>\n",
       "      <td>0</td>\n",
       "      <td>0</td>\n",
       "      <td>0</td>\n",
       "    </tr>\n",
       "    <tr>\n",
       "      <th>1</th>\n",
       "      <td>25</td>\n",
       "      <td>151.812048</td>\n",
       "      <td>15.674699</td>\n",
       "      <td>0</td>\n",
       "      <td>1</td>\n",
       "      <td>1</td>\n",
       "    </tr>\n",
       "    <tr>\n",
       "      <th>2</th>\n",
       "      <td>35</td>\n",
       "      <td>31.552063</td>\n",
       "      <td>43.740668</td>\n",
       "      <td>0</td>\n",
       "      <td>2</td>\n",
       "      <td>2</td>\n",
       "    </tr>\n",
       "    <tr>\n",
       "      <th>3</th>\n",
       "      <td>59</td>\n",
       "      <td>60.389432</td>\n",
       "      <td>76.156556</td>\n",
       "      <td>0</td>\n",
       "      <td>3</td>\n",
       "      <td>3</td>\n",
       "    </tr>\n",
       "    <tr>\n",
       "      <th>4</th>\n",
       "      <td>64</td>\n",
       "      <td>125.100457</td>\n",
       "      <td>21.646119</td>\n",
       "      <td>0</td>\n",
       "      <td>4</td>\n",
       "      <td>4</td>\n",
       "    </tr>\n",
       "  </tbody>\n",
       "</table>\n",
       "</div>"
      ],
      "text/plain": [
       "             label  centroid-0  centroid-1  frame_y  tree_id  track_id\n",
       "frame index                                                           \n",
       "0     0          3  103.091603  195.816794        0        0         0\n",
       "      1         25  151.812048   15.674699        0        1         1\n",
       "      2         35   31.552063   43.740668        0        2         2\n",
       "      3         59   60.389432   76.156556        0        3         3\n",
       "      4         64  125.100457   21.646119        0        4         4"
      ]
     },
     "execution_count": 5,
     "metadata": {},
     "output_type": "execute_result"
    }
   ],
   "source": [
    "lt = LapTrack(cutoff=100**2, splitting_cutoff=20**2)\n",
    "track_df, split_df, _ = lt.predict_dataframe(\n",
    "    regionprops_df,\n",
    "    coordinate_cols=[\"centroid-0\", \"centroid-1\"],\n",
    "    only_coordinate_cols=False,\n",
    ")\n",
    "track_df.head()"
   ]
  },
  {
   "cell_type": "markdown",
   "metadata": {},
   "source": [
    "## Adding the tracked data to the viewer"
   ]
  },
  {
   "cell_type": "markdown",
   "metadata": {},
   "source": [
    "Display the tracking results. The objects with the same `track_id` is shown by the same label."
   ]
  },
  {
   "cell_type": "code",
   "execution_count": 6,
   "metadata": {},
   "outputs": [],
   "source": [
    "track_label_image = np.zeros_like(labels)\n",
    "for (frame, _), row in track_df.iterrows():\n",
    "    track_label_image[frame][labels[frame] == row[\"label\"]] = row[\"track_id\"] + 1"
   ]
  },
  {
   "cell_type": "code",
   "execution_count": 7,
   "metadata": {},
   "outputs": [
    {
     "data": {
      "text/plain": [
       "<Labels layer 'track_label_image' at 0x1800c6a70>"
      ]
     },
     "execution_count": 7,
     "metadata": {},
     "output_type": "execute_result"
    }
   ],
   "source": [
    "viewer.layers[\"labels\"].visible = False\n",
    "viewer.add_labels(track_label_image)"
   ]
  },
  {
   "cell_type": "markdown",
   "metadata": {},
   "source": [
    "Take screenshot of currente state"
   ]
  },
  {
   "cell_type": "code",
   "execution_count": 8,
   "metadata": {},
   "outputs": [
    {
     "data": {
      "text/plain": [
       "<Figure size 600x300 with 0 Axes>"
      ]
     },
     "metadata": {},
     "output_type": "display_data"
    }
   ],
   "source": [
    "plt.figure(figsize=(6, 3))\n",
    "viewer.camera.update(camera_state)\n",
    "viewer.dims.current_step = (1, 0, 0)\n",
    "screenshot_before1 = viewer.screenshot()\n",
    "viewer.dims.current_step = (2, 0, 0)\n",
    "screenshot_before2 = viewer.screenshot()\n",
    "viewer.camera.update(original_camera_state)"
   ]
  },
  {
   "cell_type": "markdown",
   "metadata": {},
   "source": [
    "## Manual correction"
   ]
  },
  {
   "cell_type": "markdown",
   "metadata": {},
   "source": [
    "Manually annotate a correct track by placing points using the `Points` layer.\n",
    "\n",
    "Here, this step is emurated by loading the data to the layer."
   ]
  },
  {
   "cell_type": "code",
   "execution_count": 9,
   "metadata": {},
   "outputs": [
    {
     "data": {
      "text/plain": [
       "<Points layer 'manually_validated_tracks' at 0x181b93520>"
      ]
     },
     "execution_count": 9,
     "metadata": {},
     "output_type": "execute_result"
    }
   ],
   "source": [
    "manual_corrected = np.load(\"napari_interactive_fix_data/manual_corrected.npy\")\n",
    "viewer.add_points(\n",
    "    manual_corrected, name=\"manually_validated_tracks\", size=10, face_color=\"red\"\n",
    ")"
   ]
  },
  {
   "cell_type": "markdown",
   "metadata": {},
   "source": [
    "## Loading manually annotated data\n",
    "The data from the `Points` layer and the `Labels` layer are loaded to get the updated segmentation and annotation results."
   ]
  },
  {
   "cell_type": "code",
   "execution_count": 10,
   "metadata": {},
   "outputs": [],
   "source": [
    "manual_corrected = viewer.layers[\"manually_validated_tracks\"].data.astype(np.int16)\n",
    "# you can also redraw the labels\n",
    "new_labels = viewer.layers[\"track_label_image\"].data\n",
    "# get label values at the placed points\n",
    "validated_track_labels = new_labels[tuple(manual_corrected.T)]\n",
    "validated_frames = manual_corrected[:, 0]"
   ]
  },
  {
   "cell_type": "markdown",
   "metadata": {},
   "source": [
    "again calculate the centroids of the segmentation"
   ]
  },
  {
   "cell_type": "code",
   "execution_count": 11,
   "metadata": {},
   "outputs": [
    {
     "data": {
      "text/html": [
       "<div>\n",
       "<style scoped>\n",
       "    .dataframe tbody tr th:only-of-type {\n",
       "        vertical-align: middle;\n",
       "    }\n",
       "\n",
       "    .dataframe tbody tr th {\n",
       "        vertical-align: top;\n",
       "    }\n",
       "\n",
       "    .dataframe thead th {\n",
       "        text-align: right;\n",
       "    }\n",
       "</style>\n",
       "<table border=\"1\" class=\"dataframe\">\n",
       "  <thead>\n",
       "    <tr style=\"text-align: right;\">\n",
       "      <th></th>\n",
       "      <th>label</th>\n",
       "      <th>centroid-0</th>\n",
       "      <th>centroid-1</th>\n",
       "      <th>frame</th>\n",
       "    </tr>\n",
       "  </thead>\n",
       "  <tbody>\n",
       "    <tr>\n",
       "      <th>0</th>\n",
       "      <td>1</td>\n",
       "      <td>103.091603</td>\n",
       "      <td>195.816794</td>\n",
       "      <td>0</td>\n",
       "    </tr>\n",
       "    <tr>\n",
       "      <th>1</th>\n",
       "      <td>2</td>\n",
       "      <td>151.812048</td>\n",
       "      <td>15.674699</td>\n",
       "      <td>0</td>\n",
       "    </tr>\n",
       "    <tr>\n",
       "      <th>2</th>\n",
       "      <td>3</td>\n",
       "      <td>31.552063</td>\n",
       "      <td>43.740668</td>\n",
       "      <td>0</td>\n",
       "    </tr>\n",
       "    <tr>\n",
       "      <th>3</th>\n",
       "      <td>4</td>\n",
       "      <td>60.389432</td>\n",
       "      <td>76.156556</td>\n",
       "      <td>0</td>\n",
       "    </tr>\n",
       "    <tr>\n",
       "      <th>4</th>\n",
       "      <td>5</td>\n",
       "      <td>125.100457</td>\n",
       "      <td>21.646119</td>\n",
       "      <td>0</td>\n",
       "    </tr>\n",
       "  </tbody>\n",
       "</table>\n",
       "</div>"
      ],
      "text/plain": [
       "   label  centroid-0  centroid-1  frame\n",
       "0      1  103.091603  195.816794      0\n",
       "1      2  151.812048   15.674699      0\n",
       "2      3   31.552063   43.740668      0\n",
       "3      4   60.389432   76.156556      0\n",
       "4      5  125.100457   21.646119      0"
      ]
     },
     "execution_count": 11,
     "metadata": {},
     "output_type": "execute_result"
    }
   ],
   "source": [
    "new_regionprops_df = calc_frame_regionprops(new_labels).reset_index(drop=True)\n",
    "new_regionprops_df.head()"
   ]
  },
  {
   "cell_type": "code",
   "execution_count": 12,
   "metadata": {},
   "outputs": [
    {
     "name": "stdout",
     "output_type": "stream",
     "text": [
      "[[ 0 34]\n",
      " [ 1 34]\n",
      " [ 2  6]\n",
      " [ 3  4]\n",
      " [ 4  9]\n",
      " [ 5  9]]\n"
     ]
    }
   ],
   "source": [
    "validated_points = np.array(list(zip(validated_frames, validated_track_labels)))\n",
    "validated_points = validated_points[np.argsort(validated_points[:, 0])]\n",
    "print(validated_points)"
   ]
  },
  {
   "cell_type": "markdown",
   "metadata": {},
   "source": [
    "Eet the validated edges (track assigments) in terms of the `iloc` of the dataframe (making use of the index this time).\n",
    "\n",
    "`validated_point_iloc_pairs` is the pairs of the `iloc`s of the validated points"
   ]
  },
  {
   "cell_type": "code",
   "execution_count": 13,
   "metadata": {},
   "outputs": [
    {
     "name": "stdout",
     "output_type": "stream",
     "text": [
      "[(33, 69), (69, 88), (88, 132), (132, 182), (182, 230)]\n"
     ]
    },
    {
     "data": {
      "text/html": [
       "<div>\n",
       "<style scoped>\n",
       "    .dataframe tbody tr th:only-of-type {\n",
       "        vertical-align: middle;\n",
       "    }\n",
       "\n",
       "    .dataframe tbody tr th {\n",
       "        vertical-align: top;\n",
       "    }\n",
       "\n",
       "    .dataframe thead th {\n",
       "        text-align: right;\n",
       "    }\n",
       "</style>\n",
       "<table border=\"1\" class=\"dataframe\">\n",
       "  <thead>\n",
       "    <tr style=\"text-align: right;\">\n",
       "      <th></th>\n",
       "      <th>label</th>\n",
       "      <th>centroid-0</th>\n",
       "      <th>centroid-1</th>\n",
       "      <th>frame</th>\n",
       "    </tr>\n",
       "  </thead>\n",
       "  <tbody>\n",
       "    <tr>\n",
       "      <th>33</th>\n",
       "      <td>34</td>\n",
       "      <td>108.448276</td>\n",
       "      <td>108.586207</td>\n",
       "      <td>0</td>\n",
       "    </tr>\n",
       "    <tr>\n",
       "      <th>69</th>\n",
       "      <td>34</td>\n",
       "      <td>92.097561</td>\n",
       "      <td>112.112805</td>\n",
       "      <td>1</td>\n",
       "    </tr>\n",
       "    <tr>\n",
       "      <th>88</th>\n",
       "      <td>6</td>\n",
       "      <td>68.569405</td>\n",
       "      <td>116.014164</td>\n",
       "      <td>2</td>\n",
       "    </tr>\n",
       "    <tr>\n",
       "      <th>132</th>\n",
       "      <td>4</td>\n",
       "      <td>52.942993</td>\n",
       "      <td>114.076010</td>\n",
       "      <td>3</td>\n",
       "    </tr>\n",
       "    <tr>\n",
       "      <th>182</th>\n",
       "      <td>9</td>\n",
       "      <td>36.493888</td>\n",
       "      <td>117.039120</td>\n",
       "      <td>4</td>\n",
       "    </tr>\n",
       "    <tr>\n",
       "      <th>230</th>\n",
       "      <td>9</td>\n",
       "      <td>41.824363</td>\n",
       "      <td>113.631728</td>\n",
       "      <td>5</td>\n",
       "    </tr>\n",
       "  </tbody>\n",
       "</table>\n",
       "</div>"
      ],
      "text/plain": [
       "     label  centroid-0  centroid-1  frame\n",
       "33      34  108.448276  108.586207      0\n",
       "69      34   92.097561  112.112805      1\n",
       "88       6   68.569405  116.014164      2\n",
       "132      4   52.942993  114.076010      3\n",
       "182      9   36.493888  117.039120      4\n",
       "230      9   41.824363  113.631728      5"
      ]
     },
     "metadata": {},
     "output_type": "display_data"
    }
   ],
   "source": [
    "def get_iloc(frame, label):\n",
    "    df = new_regionprops_df[\n",
    "        (new_regionprops_df[\"frame\"] == frame) & (new_regionprops_df[\"label\"] == label)\n",
    "    ]\n",
    "    assert len(df) == 1\n",
    "    return df.iloc[0].name\n",
    "\n",
    "\n",
    "validated_point_ilocs = [get_iloc(frame, label) for frame, label in validated_points]\n",
    "validated_point_iloc_pairs = list(\n",
    "    zip(validated_point_ilocs[:-1], validated_point_ilocs[1:])\n",
    ")\n",
    "print(validated_point_iloc_pairs)\n",
    "display(new_regionprops_df.iloc[validated_point_ilocs])"
   ]
  },
  {
   "cell_type": "markdown",
   "metadata": {},
   "source": [
    "## Second tracking preserving manually corrected data"
   ]
  },
  {
   "cell_type": "markdown",
   "metadata": {},
   "source": [
    "This is the core of this example: we can track the centroids again with preserving the annotation (`connected_edges`)."
   ]
  },
  {
   "cell_type": "code",
   "execution_count": 14,
   "metadata": {},
   "outputs": [],
   "source": [
    "lt = LapTrack(cutoff=100**2, splitting_cutoff=20**2)\n",
    "new_track_df, _new_split_df, _ = lt.predict_dataframe(\n",
    "    new_regionprops_df,\n",
    "    coordinate_cols=[\"centroid-0\", \"centroid-1\"],\n",
    "    only_coordinate_cols=False,\n",
    "    connected_edges=validated_point_iloc_pairs,\n",
    ")"
   ]
  },
  {
   "cell_type": "code",
   "execution_count": 15,
   "metadata": {},
   "outputs": [
    {
     "data": {
      "text/html": [
       "<div>\n",
       "<style scoped>\n",
       "    .dataframe tbody tr th:only-of-type {\n",
       "        vertical-align: middle;\n",
       "    }\n",
       "\n",
       "    .dataframe tbody tr th {\n",
       "        vertical-align: top;\n",
       "    }\n",
       "\n",
       "    .dataframe thead th {\n",
       "        text-align: right;\n",
       "    }\n",
       "</style>\n",
       "<table border=\"1\" class=\"dataframe\">\n",
       "  <thead>\n",
       "    <tr style=\"text-align: right;\">\n",
       "      <th></th>\n",
       "      <th></th>\n",
       "      <th>label</th>\n",
       "      <th>centroid-0</th>\n",
       "      <th>centroid-1</th>\n",
       "      <th>frame_y</th>\n",
       "      <th>tree_id</th>\n",
       "      <th>track_id</th>\n",
       "    </tr>\n",
       "    <tr>\n",
       "      <th>frame</th>\n",
       "      <th>index</th>\n",
       "      <th></th>\n",
       "      <th></th>\n",
       "      <th></th>\n",
       "      <th></th>\n",
       "      <th></th>\n",
       "      <th></th>\n",
       "    </tr>\n",
       "  </thead>\n",
       "  <tbody>\n",
       "    <tr>\n",
       "      <th rowspan=\"5\" valign=\"top\">0</th>\n",
       "      <th>0</th>\n",
       "      <td>1</td>\n",
       "      <td>103.091603</td>\n",
       "      <td>195.816794</td>\n",
       "      <td>0</td>\n",
       "      <td>0</td>\n",
       "      <td>0</td>\n",
       "    </tr>\n",
       "    <tr>\n",
       "      <th>1</th>\n",
       "      <td>2</td>\n",
       "      <td>151.812048</td>\n",
       "      <td>15.674699</td>\n",
       "      <td>0</td>\n",
       "      <td>1</td>\n",
       "      <td>1</td>\n",
       "    </tr>\n",
       "    <tr>\n",
       "      <th>2</th>\n",
       "      <td>3</td>\n",
       "      <td>31.552063</td>\n",
       "      <td>43.740668</td>\n",
       "      <td>0</td>\n",
       "      <td>2</td>\n",
       "      <td>2</td>\n",
       "    </tr>\n",
       "    <tr>\n",
       "      <th>3</th>\n",
       "      <td>4</td>\n",
       "      <td>60.389432</td>\n",
       "      <td>76.156556</td>\n",
       "      <td>0</td>\n",
       "      <td>3</td>\n",
       "      <td>3</td>\n",
       "    </tr>\n",
       "    <tr>\n",
       "      <th>4</th>\n",
       "      <td>5</td>\n",
       "      <td>125.100457</td>\n",
       "      <td>21.646119</td>\n",
       "      <td>0</td>\n",
       "      <td>4</td>\n",
       "      <td>4</td>\n",
       "    </tr>\n",
       "    <tr>\n",
       "      <th>...</th>\n",
       "      <th>...</th>\n",
       "      <td>...</td>\n",
       "      <td>...</td>\n",
       "      <td>...</td>\n",
       "      <td>...</td>\n",
       "      <td>...</td>\n",
       "      <td>...</td>\n",
       "    </tr>\n",
       "    <tr>\n",
       "      <th rowspan=\"5\" valign=\"top\">5</th>\n",
       "      <th>45</th>\n",
       "      <td>55</td>\n",
       "      <td>95.888179</td>\n",
       "      <td>48.552716</td>\n",
       "      <td>5</td>\n",
       "      <td>42</td>\n",
       "      <td>54</td>\n",
       "    </tr>\n",
       "    <tr>\n",
       "      <th>46</th>\n",
       "      <td>56</td>\n",
       "      <td>188.176301</td>\n",
       "      <td>71.471098</td>\n",
       "      <td>5</td>\n",
       "      <td>38</td>\n",
       "      <td>55</td>\n",
       "    </tr>\n",
       "    <tr>\n",
       "      <th>47</th>\n",
       "      <td>57</td>\n",
       "      <td>20.024096</td>\n",
       "      <td>196.915663</td>\n",
       "      <td>5</td>\n",
       "      <td>11</td>\n",
       "      <td>56</td>\n",
       "    </tr>\n",
       "    <tr>\n",
       "      <th>48</th>\n",
       "      <td>58</td>\n",
       "      <td>193.452991</td>\n",
       "      <td>89.854701</td>\n",
       "      <td>5</td>\n",
       "      <td>38</td>\n",
       "      <td>57</td>\n",
       "    </tr>\n",
       "    <tr>\n",
       "      <th>49</th>\n",
       "      <td>59</td>\n",
       "      <td>4.693182</td>\n",
       "      <td>191.176136</td>\n",
       "      <td>5</td>\n",
       "      <td>11</td>\n",
       "      <td>58</td>\n",
       "    </tr>\n",
       "  </tbody>\n",
       "</table>\n",
       "<p>273 rows × 6 columns</p>\n",
       "</div>"
      ],
      "text/plain": [
       "             label  centroid-0  centroid-1  frame_y  tree_id  track_id\n",
       "frame index                                                           \n",
       "0     0          1  103.091603  195.816794        0        0         0\n",
       "      1          2  151.812048   15.674699        0        1         1\n",
       "      2          3   31.552063   43.740668        0        2         2\n",
       "      3          4   60.389432   76.156556        0        3         3\n",
       "      4          5  125.100457   21.646119        0        4         4\n",
       "...            ...         ...         ...      ...      ...       ...\n",
       "5     45        55   95.888179   48.552716        5       42        54\n",
       "      46        56  188.176301   71.471098        5       38        55\n",
       "      47        57   20.024096  196.915663        5       11        56\n",
       "      48        58  193.452991   89.854701        5       38        57\n",
       "      49        59    4.693182  191.176136        5       11        58\n",
       "\n",
       "[273 rows x 6 columns]"
      ]
     },
     "execution_count": 15,
     "metadata": {},
     "output_type": "execute_result"
    }
   ],
   "source": [
    "new_track_df"
   ]
  },
  {
   "cell_type": "markdown",
   "metadata": {},
   "source": [
    "## Adding updated data to viewer\n",
    "Display the updated tracking results. The objects with the same `track_id` is shown by the same label."
   ]
  },
  {
   "cell_type": "code",
   "execution_count": 16,
   "metadata": {},
   "outputs": [
    {
     "data": {
      "text/plain": [
       "<Labels layer 'new_track_label_image' at 0x160c9bc40>"
      ]
     },
     "execution_count": 16,
     "metadata": {},
     "output_type": "execute_result"
    }
   ],
   "source": [
    "new_track_label_image = np.zeros_like(new_labels)\n",
    "for (frame, _), row in new_track_df.iterrows():\n",
    "    new_track_label_image[frame][new_labels[frame] == row[\"label\"]] = (\n",
    "        row[\"track_id\"] + 1\n",
    "    )\n",
    "viewer.layers[\"track_label_image\"].visible = False\n",
    "viewer.add_labels(new_track_label_image)"
   ]
  },
  {
   "cell_type": "markdown",
   "metadata": {},
   "source": [
    "## Take screenshots\n",
    "(the following codes exist to take screenshots of the viewer for the thumbnail.)"
   ]
  },
  {
   "cell_type": "code",
   "execution_count": 17,
   "metadata": {},
   "outputs": [
    {
     "data": {
      "text/plain": [
       "<Figure size 600x300 with 0 Axes>"
      ]
     },
     "metadata": {},
     "output_type": "display_data"
    }
   ],
   "source": [
    "plt.figure(figsize=(6, 3))\n",
    "viewer.camera.update(camera_state)"
   ]
  },
  {
   "cell_type": "code",
   "execution_count": 18,
   "metadata": {},
   "outputs": [
    {
     "data": {
      "text/plain": [
       "<Figure size 600x300 with 0 Axes>"
      ]
     },
     "metadata": {},
     "output_type": "display_data"
    }
   ],
   "source": [
    "plt.figure(figsize=(6, 3))\n",
    "viewer.layers.move_multiple([3], 5)\n",
    "viewer.camera.update(camera_state)\n",
    "viewer.dims.current_step = (1, 0, 0)\n",
    "screenshot_after1 = viewer.screenshot()\n",
    "viewer.dims.current_step = (2, 0, 0)\n",
    "screenshot_after2 = viewer.screenshot()\n",
    "viewer.camera.update(original_camera_state)"
   ]
  },
  {
   "cell_type": "code",
   "execution_count": 20,
   "metadata": {
    "nbsphinx-thumbnail": {
     "tooltip": "Manual annotation helps tracking."
    }
   },
   "outputs": [
    {
     "data": {
      "image/png": "[encoded data removed]",
      "text/plain": [
       "<Figure size 300x300 with 4 Axes>"
      ]
     },
     "metadata": {
      "image/png": {
       "height": 286,
       "width": 279
      }
     },
     "output_type": "display_data"
    }
   ],
   "source": [
    "fig, axes = plt.subplots(2, 2, figsize=(3, 3))\n",
    "screenshots = [\n",
    "    screenshot_before1,\n",
    "    screenshot_before2,\n",
    "    screenshot_after1,\n",
    "    screenshot_after2,\n",
    "]\n",
    "for ax, img in zip(np.ravel(axes.T), screenshots):\n",
    "    ax.imshow(img)\n",
    "    ax.set_xticks([])\n",
    "    ax.set_yticks([])\n",
    "fig.tight_layout()"
   ]
  },
  {
   "cell_type": "code",
   "execution_count": 22,
   "metadata": {},
   "outputs": [],
   "source": [
    "# camera_state = viewer.camera.dict()\n",
    "# with open(\"napari_interactive_fix_data/camera_state.json\",\"w\") as f:\n",
    "#     json.dump(camera_state,f)"
   ]
  }
 ],
 "metadata": {
  "kernelspec": {
   "display_name": "Python 3.10.5 64-bit ('image_analysis')",
   "language": "python",
   "name": "python3"
  },
  "language_info": {
   "codemirror_mode": {
    "name": "ipython",
    "version": 3
   },
   "file_extension": ".py",
   "mimetype": "text/x-python",
   "name": "python",
   "nbconvert_exporter": "python",
   "pygments_lexer": "ipython3",
   "version": "3.10.5"
  },
  "vscode": {
   "interpreter": {
    "hash": "112c4654da1b8403c1d0efe0680f4afdb1a0816fe1d810c3856d3bd0e24d8e17"
   }
  }
 },
 "nbformat": 4,
 "nbformat_minor": 2
}
