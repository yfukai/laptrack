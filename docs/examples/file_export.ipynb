{
 "cells": [
  {
   "cell_type": "code",
   "execution_count": 140,
   "id": "b12fc821",
   "metadata": {},
   "outputs": [],
   "source": [
    "from laptrack import LapTrack\n",
    "from laptrack import data_conversion\n",
    "from laptrack import datasets\n",
    "import networkx as nx\n",
    "from typing import Optional, Sequence, List, Tuple\n",
    "from laptrack._typing_utils import NumArray"
   ]
  },
  {
   "cell_type": "code",
   "execution_count": 160,
   "id": "5fec4807",
   "metadata": {},
   "outputs": [],
   "source": [
    "lt = LapTrack(\n",
    "    metric=\"sqeuclidean\",\n",
    "    cutoff=15**2,\n",
    "    # splitting_metric=\"sqeuclidean\",\n",
    "    # merging_metric=\"sqeuclidean\",\n",
    "    splitting_cutoff=15**2,\n",
    "    merging_cutoff=15**2,\n",
    ")"
   ]
  },
  {
   "cell_type": "code",
   "execution_count": 179,
   "id": "d56b70a9",
   "metadata": {},
   "outputs": [
    {
     "name": "stderr",
     "output_type": "stream",
     "text": [
      "/Users/fukai/projects/laptrack/src/laptrack/_tracking.py:808: FutureWarning: The parameter only_coordinate_cols will be False by default in the major release.\n",
      "  warnings.warn(\n"
     ]
    }
   ],
   "source": [
    "spots_df = datasets.simple_tracks()\n",
    "coords = data_conversion.convert_dataframe_to_coords(\n",
    "    spots_df, [\"position_x\", \"position_y\"]\n",
    ")\n",
    "tree1 = lt.predict(coords)\n",
    "tree1 = nx.relabel_nodes(\n",
    "    tree1, {node: (int(node[0]), int(node[1])) for node in tree1.nodes}\n",
    ")\n",
    "track_df, split_df, merge_df = lt.predict_dataframe(\n",
    "    spots_df,\n",
    "    [\"position_x\", \"position_y\"],\n",
    "    frame_col=\"frame\",\n",
    ")\n",
    "\n",
    "track_df2, split_df2, merge_df2 = data_conversion.convert_tree_to_dataframe(\n",
    "    tree1,\n",
    "    coords,\n",
    ")\n",
    "track_df2.columns = track_df.columns\n",
    "assert track_df.equals(track_df2)\n",
    "assert split_df.equals(split_df2)\n",
    "assert merge_df.equals(merge_df2)"
   ]
  },
  {
   "cell_type": "code",
   "execution_count": null,
   "id": "fdef5b7a",
   "metadata": {},
   "outputs": [
    {
     "name": "stdout",
     "output_type": "stream",
     "text": [
      "{((5, 0), (6, 0)), ((8, 1), (9, 1)), ((4, 3), (5, 3)), ((4, 0), (5, 2)), ((5, 3), (6, 2)), ((5, 1), (6, 0)), ((7, 2), (9, 0)), ((4, 2), (5, 1)), ((4, 1), (5, 0)), ((5, 2), (6, 1))}\n",
      "{((5, 0), (6, 2)), ((4, 2), (5, 3)), ((7, 2), (9, 1)), ((5, 1), (6, 1)), ((5, 3), (6, 0)), ((5, 2), (6, 0)), ((8, 1), (9, 0)), ((4, 3), (5, 0)), ((4, 0), (5, 1)), ((4, 1), (5, 2))}\n"
     ]
    }
   ],
   "source": [
    "import pandas as pd\n",
    "\n",
    "\n",
    "def convert_dataframes_to_tree_coords(\n",
    "    track_df: pd.DataFrame,\n",
    "    split_df: pd.DataFrame,\n",
    "    merge_df: pd.DataFrame,\n",
    "    coordinate_cols: List[str],\n",
    "    frame_col: str = \"frame\",\n",
    ") -> Tuple[nx.DiGraph, List[NumArray]]:\n",
    "    _track_df = track_df.sort_values(frame_col).reset_index()\n",
    "    coords, frame_index = data_conversion.convert_dataframe_to_coords_frame_index(\n",
    "        _track_df, coordinate_cols, frame_col=frame_col\n",
    "    )\n",
    "    frame_index = [(int(frame), int(ind)) for frame, ind in frame_index]\n",
    "    grp_inds = {\n",
    "        _track_id: grp.index.astype(int)\n",
    "        for _track_id, grp in _track_df.groupby(\"track_id\")\n",
    "    }\n",
    "\n",
    "    tree = nx.DiGraph()\n",
    "    tree.add_nodes_from(frame_index)\n",
    "    for grp_ind in grp_inds.values():\n",
    "        if len(grp_ind) > 1:\n",
    "            for i in range(len(grp_ind) - 1):\n",
    "                tree.add_edge(frame_index[grp_ind[i]], frame_index[grp_ind[i + 1]])\n",
    "    for _, row in split_df.iterrows():\n",
    "        parent_node = grp_inds[row[\"parent_track_id\"]][-1]\n",
    "        child_node = grp_inds[row[\"child_track_id\"]][0]\n",
    "        tree.add_edge(\n",
    "            frame_index[parent_node],\n",
    "            frame_index[child_node],\n",
    "        )\n",
    "    for _, row in merge_df.iterrows():\n",
    "        parent_node = grp_inds[row[\"parent_track_id\"]][-1]\n",
    "        child_node = grp_inds[row[\"child_track_id\"]][0]\n",
    "        tree.add_edge(\n",
    "            frame_index[parent_node],\n",
    "            frame_index[child_node],\n",
    "        )\n",
    "    return tree, coords\n",
    "\n",
    "\n",
    "tree2, coords2 = convert_dataframes_to_tree_coords(\n",
    "    track_df, split_df, merge_df, [\"position_x\", \"position_y\"], frame_col=\"frame\"\n",
    ")"
   ]
  },
  {
   "cell_type": "code",
   "execution_count": null,
   "id": "75673f27",
   "metadata": {},
   "outputs": [
    {
     "data": {
      "text/plain": [
       "True"
      ]
     },
     "execution_count": 190,
     "metadata": {},
     "output_type": "execute_result"
    }
   ],
   "source": [
    "compare_coords_nodes_edges(tree1, tree2, coords, coords2)"
   ]
  },
  {
   "cell_type": "code",
   "execution_count": 195,
   "id": "e1b8415e",
   "metadata": {},
   "outputs": [
    {
     "data": {
      "text/plain": [
       "False"
      ]
     },
     "execution_count": 195,
     "metadata": {},
     "output_type": "execute_result"
    }
   ],
   "source": [
    "_tree1 = tree1.copy()\n",
    "_tree1.add_edge((2, 0), (3, 1))\n",
    "compare_coords_nodes_edges(_tree1, tree2, coords, coords2)"
   ]
  },
  {
   "cell_type": "code",
   "execution_count": 162,
   "id": "49ae32cc",
   "metadata": {},
   "outputs": [],
   "source": [
    "def convert_digraph_to_geff_networkx(\n",
    "    tree: nx.DiGraph,\n",
    "    coords: Optional[Sequence[NumArray]] = None,\n",
    "    attr_names: Optional[List[str]] = None,\n",
    ") -> nx.DiGraph:\n",
    "    \"\"\"Convert the networkx directed graph to a networkx in the GEFF format.\n",
    "\n",
    "    Parameters\n",
    "    ----------\n",
    "    tree : nx.DiGraph\n",
    "        The directed graph representing the track tree.\n",
    "    coords : Optional[Sequence[NumArray]], default None\n",
    "        The coordinate values. If None, no coordinate values are appended\n",
    "        to the dataframe.\n",
    "    attr_names : Optional[List[str]], default None\n",
    "        The list of attribute names to be added to the nodes.\n",
    "        The length must match the number of coordinates in the `coords` + 1.\n",
    "        If None, default names of \"frame\", \"coord-0\", \"coord-1\", ... are used.\n",
    "\n",
    "    Returns\n",
    "    -------\n",
    "    geff_tree : nx.Graph\n",
    "        The undirected graph in the GEFF format, with the following attributes.\n",
    "        - attr_names[0]\n",
    "        - attr_names[1]\n",
    "        - ...\n",
    "\n",
    "    Example\n",
    "    -------\n",
    "    >>> import laptrack as lt\n",
    "    >>> import laptrack.data_conversion as data_conversion\n",
    "    >>> tree = lt.predict(coords)\n",
    "    >>> geff_tree = data_conversion.convert_digraph_to_geff_networkx(tree, coords, attr_names)\n",
    "    >>> geff.write_nx(geff_tree, \"save_path.zarr\")\n",
    "\n",
    "    \"\"\"\n",
    "\n",
    "    if attr_names is None:\n",
    "        attr_names = [\"frame\"] + [f\"coord-{i}\" for i in range(coords[0].shape[1])]\n",
    "    elif len(attr_names) != coords[0].shape[1] + 1:\n",
    "        raise ValueError(\n",
    "            f\"attr_names must have length {coords[0].shape[1] + 1}, \"\n",
    "            f\"but got {len(attr_names)}\"\n",
    "        )\n",
    "    geff_tree = tree.copy()\n",
    "    for node in geff_tree.nodes:\n",
    "        geff_tree.nodes[node][\"frame\"] = node[0]\n",
    "\n",
    "    # XXX could be more efficient\n",
    "    if coords is not None:\n",
    "        for node in geff_tree.nodes:\n",
    "            for i, attr_name in enumerate(attr_names[1:], start=0):\n",
    "                geff_tree.nodes[node][attr_name] = coords[node[0]][node[1], i]\n",
    "    return geff_tree\n",
    "\n",
    "\n",
    "geff_tree = convert_digraph_to_geff_networkx(\n",
    "    tree1, coords, [\"frame\", \"position_x\", \"position_y\"]\n",
    ")"
   ]
  },
  {
   "cell_type": "code",
   "execution_count": null,
   "id": "19484655",
   "metadata": {},
   "outputs": [
    {
     "data": {
      "text/plain": [
       "{((4, 0), (5, 2)),\n",
       " ((4, 1), (5, 0)),\n",
       " ((4, 2), (5, 1)),\n",
       " ((4, 3), (5, 3)),\n",
       " ((5, 0), (6, 0)),\n",
       " ((5, 1), (6, 0)),\n",
       " ((5, 2), (6, 1)),\n",
       " ((5, 3), (6, 2)),\n",
       " ((7, 2), (9, 0)),\n",
       " ((8, 1), (9, 1))}"
      ]
     },
     "execution_count": 165,
     "metadata": {},
     "output_type": "execute_result"
    }
   ],
   "source": []
  }
 ],
 "metadata": {
  "kernelspec": {
   "display_name": "laptrack-py3.13",
   "language": "python",
   "name": "python3"
  },
  "language_info": {
   "codemirror_mode": {
    "name": "ipython",
    "version": 3
   },
   "file_extension": ".py",
   "mimetype": "text/x-python",
   "name": "python",
   "nbconvert_exporter": "python",
   "pygments_lexer": "ipython3",
   "version": "3.13.2"
  }
 },
 "nbformat": 4,
 "nbformat_minor": 5
}
