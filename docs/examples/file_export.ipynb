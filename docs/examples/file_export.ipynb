{
 "cells": [
  {
   "cell_type": "markdown",
   "id": "5d299db0",
   "metadata": {},
   "source": [
    "# Example of saving data to GEFF"
   ]
  },
  {
   "cell_type": "markdown",
   "id": "bc43f159",
   "metadata": {},
   "source": [
    "This example illustrates how we can save the tracked data into a GEFF (Graph Exchange File Format)."
   ]
  },
  {
   "cell_type": "code",
   "execution_count": 2,
   "id": "b12fc821",
   "metadata": {},
   "outputs": [],
   "source": [
    "from laptrack import LapTrack\n",
    "from laptrack import data_conversion\n",
    "from laptrack import datasets\n",
    "import geff"
   ]
  },
  {
   "cell_type": "code",
   "execution_count": 3,
   "id": "5fec4807",
   "metadata": {},
   "outputs": [],
   "source": [
    "lt = LapTrack(\n",
    "    metric=\"sqeuclidean\",\n",
    "    cutoff=15**2,\n",
    "    splitting_metric=\"sqeuclidean\",\n",
    "    merging_metric=\"sqeuclidean\",\n",
    "    splitting_cutoff=15**2,\n",
    "    merging_cutoff=15**2,\n",
    ")"
   ]
  },
  {
   "cell_type": "code",
   "execution_count": 7,
   "id": "d68146f4",
   "metadata": {},
   "outputs": [],
   "source": [
    "coordinate_cols = [\"position_x\", \"position_y\"]\n",
    "frame_col = \"frame\""
   ]
  },
  {
   "cell_type": "code",
   "execution_count": 9,
   "id": "49ae32cc",
   "metadata": {},
   "outputs": [],
   "source": [
    "spots_df = datasets.simple_tracks()\n",
    "track_df, split_df, merge_df = lt.predict_dataframe(\n",
    "    spots_df,\n",
    "    coordinate_cols=coordinate_cols,\n",
    "    frame_col=frame_col,\n",
    "    only_coordinate_cols=False,\n",
    ")"
   ]
  },
  {
   "cell_type": "code",
   "execution_count": 10,
   "id": "8fe2bf20",
   "metadata": {},
   "outputs": [],
   "source": [
    "tree_geff = data_conversion.convert_dataframes_to_geff_networkx(\n",
    "    track_df,\n",
    "    split_df,\n",
    "    merge_df,\n",
    "    coordinate_cols=coordinate_cols,\n",
    "    frame_col=frame_col,\n",
    ")"
   ]
  },
  {
   "cell_type": "code",
   "execution_count": 11,
   "id": "56da38ad",
   "metadata": {},
   "outputs": [
    {
     "data": {
      "text/plain": [
       "{'frame': 0,\n",
       " 'position_x': np.float64(178.4125746427294),\n",
       " 'position_y': np.float64(185.18866073671265)}"
      ]
     },
     "execution_count": 11,
     "metadata": {},
     "output_type": "execute_result"
    }
   ],
   "source": [
    "tree_geff.nodes[0]"
   ]
  },
  {
   "cell_type": "code",
   "execution_count": 14,
   "id": "3329e792",
   "metadata": {},
   "outputs": [],
   "source": [
    "geff.write_nx(tree_geff, \"/tmp/tree.geff\")\n",
    "geff.validate(\"/tmp/tree.geff\")"
   ]
  },
  {
   "cell_type": "code",
   "execution_count": null,
   "id": "0657ee4c",
   "metadata": {},
   "outputs": [],
   "source": []
  }
 ],
 "metadata": {
  "kernelspec": {
   "display_name": "laptrack-py3.13",
   "language": "python",
   "name": "python3"
  },
  "language_info": {
   "codemirror_mode": {
    "name": "ipython",
    "version": 3
   },
   "file_extension": ".py",
   "mimetype": "text/x-python",
   "name": "python",
   "nbconvert_exporter": "python",
   "pygments_lexer": "ipython3",
   "version": "3.13.2"
  }
 },
 "nbformat": 4,
 "nbformat_minor": 5
}
