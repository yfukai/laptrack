{
 "cells": [
  {
   "cell_type": "markdown",
   "id": "0e2feb77",
   "metadata": {},
   "source": [
    "# Command line tool for tracking"
   ]
  },
  {
   "cell_type": "code",
   "execution_count": 1,
   "id": "b12fc821",
   "metadata": {},
   "outputs": [
    {
     "name": "stdout",
     "output_type": "stream",
     "text": [
      "Temporary files will be stored in: /var/folders/pz/_dlzclyn4mjgvngf1dpfg_880000gn/T\n"
     ]
    }
   ],
   "source": [
    "from laptrack import LapTrack\n",
    "from laptrack import data_conversion\n",
    "import geff\n",
    "import tempfile\n",
    "import napari\n",
    "from pathlib import Path\n",
    "import zarr\n",
    "import numpy as np\n",
    "\n",
    "tmp_path = Path(tempfile.gettempdir())\n",
    "print(f\"Temporary files will be stored in: {tmp_path}\")\n",
    "!open {tmp_path}"
   ]
  },
  {
   "cell_type": "markdown",
   "id": "37664c16",
   "metadata": {},
   "source": [
    "## Tracking CSV coordinates"
   ]
  },
  {
   "cell_type": "code",
   "execution_count": 2,
   "id": "ae0b3ba5",
   "metadata": {},
   "outputs": [
    {
     "name": "stdout",
     "output_type": "stream",
     "text": [
      "usage: laptrack track [--csv_path CSV_PATH]\n",
      "                      [--track_geff_path TRACK_GEFF_PATH] --output_path\n",
      "                      OUTPUT_PATH [--metadata_path METADATA_PATH]\n",
      "                      [--frame_col FRAME_COL] --coordinate_cols\n",
      "                      [COORDINATE_COLS ...] [-h] [--metric METRIC]\n",
      "                      [--cutoff CUTOFF]\n",
      "                      [--gap_closing_metric GAP_CLOSING_METRIC]\n",
      "                      [--gap_closing_cutoff GAP_CLOSING_CUTOFF]\n",
      "                      [--gap_closing_max_frame_count GAP_CLOSING_MAX_FRAME_COUNT]\n",
      "                      [--splitting_metric SPLITTING_METRIC]\n",
      "                      [--splitting_cutoff SPLITTING_CUTOFF]\n",
      "                      [--merging_metric MERGING_METRIC]\n",
      "                      [--merging_cutoff MERGING_CUTOFF]\n",
      "                      [--track_start_cost TRACK_START_COST]\n",
      "                      [--track_end_cost TRACK_END_COST]\n",
      "                      [--segment_start_cost SEGMENT_START_COST]\n",
      "                      [--segment_end_cost SEGMENT_END_COST]\n",
      "                      [--no_splitting_cost NO_SPLITTING_COST]\n",
      "                      [--no_merging_cost NO_MERGING_COST]\n",
      "                      [--alternative_cost_factor ALTERNATIVE_COST_FACTOR]\n",
      "                      [--alternative_cost_percentile ALTERNATIVE_COST_PERCENTILE]\n",
      "                      [--alternative_cost_percentile_interpolation ALTERNATIVE_COST_PERCENTILE_INTERPOLATION]\n",
      "                      [--parallel_backend PARALLEL_BACKEND]\n",
      "\n",
      "Arguments for the \"track\" command.\n",
      "\n",
      "options:\n",
      "  --csv_path CSV_PATH   (Optional[pathlib.Path], default=None) path to input\n",
      "                        csv file\n",
      "  --track_geff_path TRACK_GEFF_PATH\n",
      "                        (Optional[pathlib.Path], default=None) path to output\n",
      "                        geff file\n",
      "  --output_path OUTPUT_PATH\n",
      "                        (Path, required)\n",
      "  --metadata_path METADATA_PATH\n",
      "                        (Optional[pathlib.Path], default=None) path to\n",
      "                        metadata file\n",
      "  --frame_col FRAME_COL\n",
      "                        (str, default=frame)\n",
      "  --coordinate_cols [COORDINATE_COLS ...]\n",
      "                        (List[str], required)\n",
      "  -h, --help            show this help message and exit\n",
      "  --metric METRIC       (default=sqeuclidean)\n",
      "  --cutoff CUTOFF       (default=225)\n",
      "  --gap_closing_metric GAP_CLOSING_METRIC\n",
      "                        (default=sqeuclidean)\n",
      "  --gap_closing_cutoff GAP_CLOSING_CUTOFF\n",
      "                        (default=225)\n",
      "  --gap_closing_max_frame_count GAP_CLOSING_MAX_FRAME_COUNT\n",
      "                        (default=2)\n",
      "  --splitting_metric SPLITTING_METRIC\n",
      "                        (default=sqeuclidean)\n",
      "  --splitting_cutoff SPLITTING_CUTOFF\n",
      "                        (default=False)\n",
      "  --merging_metric MERGING_METRIC\n",
      "                        (default=sqeuclidean)\n",
      "  --merging_cutoff MERGING_CUTOFF\n",
      "                        (default=False)\n",
      "  --track_start_cost TRACK_START_COST\n",
      "                        (default=None)\n",
      "  --track_end_cost TRACK_END_COST\n",
      "                        (default=None)\n",
      "  --segment_start_cost SEGMENT_START_COST\n",
      "                        (default=None)\n",
      "  --segment_end_cost SEGMENT_END_COST\n",
      "                        (default=None)\n",
      "  --no_splitting_cost NO_SPLITTING_COST\n",
      "                        (default=None)\n",
      "  --no_merging_cost NO_MERGING_COST\n",
      "                        (default=None)\n",
      "  --alternative_cost_factor ALTERNATIVE_COST_FACTOR\n",
      "                        (default=1.05)\n",
      "  --alternative_cost_percentile ALTERNATIVE_COST_PERCENTILE\n",
      "                        (default=90)\n",
      "  --alternative_cost_percentile_interpolation ALTERNATIVE_COST_PERCENTILE_INTERPOLATION\n",
      "                        (default=lower)\n",
      "  --parallel_backend PARALLEL_BACKEND\n",
      "                        (default=ParallelBackend.serial)\n"
     ]
    }
   ],
   "source": [
    "!laptrack track --help"
   ]
  },
  {
   "cell_type": "code",
   "execution_count": 5,
   "id": "bf65d9d9",
   "metadata": {},
   "outputs": [
    {
     "name": "stdout",
     "output_type": "stream",
     "text": [
      "{\n",
      "  \"geff_version\": \"0.5.1.dev1+ge6d3dc6\",\n",
      "  \"directed\": true,\n",
      "  \"axes\": [\n",
      "    {\n",
      "      \"name\": \"frame\",\n",
      "      \"type\": \"time\",\n",
      "      \"unit\": \"frame\",\n",
      "      \"min\": null,\n",
      "      \"max\": null\n"
     ]
    }
   ],
   "source": [
    "!cat command_line_data/metadata.json | head"
   ]
  },
  {
   "cell_type": "code",
   "execution_count": 28,
   "id": "61bab404",
   "metadata": {},
   "outputs": [
    {
     "name": "stdout",
     "output_type": "stream",
     "text": [
      "/var/folders/pz/_dlzclyn4mjgvngf1dpfg_880000gn/T/images.zarr\n",
      "image  labels  zarr.json\n"
     ]
    }
   ],
   "source": [
    "zarr_path = tmp_path / \"images.zarr\"\n",
    "print(zarr_path)\n",
    "!rm -r {zarr_path}\n",
    "!cp -r command_line_data/images.zarr {zarr_path}\n",
    "!ls {zarr_path}"
   ]
  },
  {
   "cell_type": "code",
   "execution_count": 29,
   "id": "dc19d5a6",
   "metadata": {},
   "outputs": [
    {
     "name": "stdout",
     "output_type": "stream",
     "text": [
      "/Users/fukai/projects/laptrack/.venv/lib/python3.12/site-packages/pydantic/main.py:746: UserWarning: Temporal unit frame not in valid OME-Zarr units [None, 'attosecond', 'centisecond', 'day', 'decisecond', 'exasecond', 'femtosecond', 'gigasecond', 'hectosecond', 'hour', 'kilosecond', 'megasecond', 'microsecond', 'millisecond', 'minute', 'nanosecond', 'petasecond', 'picosecond', 'second', 'terasecond', 'yoctosecond', 'yottasecond', 'zeptosecond', 'zettasecond']. Reader applications may not know what to do with this information.\n",
      "  return cls.__pydantic_validator__.validate_json(\n",
      "/Users/fukai/projects/laptrack/.venv/lib/python3.12/site-packages/pydantic/main.py:746: UserWarning: Spatial unit px not in valid OME-Zarr units [None, 'angstrom', 'attometer', 'centimeter', 'decimeter', 'exameter', 'femtometer', 'foot', 'gigameter', 'hectometer', 'inch', 'kilometer', 'megameter', 'meter', 'micrometer', 'mile', 'millimeter', 'nanometer', 'parsec', 'petameter', 'picometer', 'terameter', 'yard', 'yoctometer', 'yottameter', 'zeptometer', 'zettameter']. Reader applications may not know what to do with this information.\n",
      "  return cls.__pydantic_validator__.validate_json(\n",
      "/Users/fukai/projects/laptrack/.venv/lib/python3.12/site-packages/pydantic/main.py:253: UserWarning: Temporal unit frame not in valid OME-Zarr units [None, 'attosecond', 'centisecond', 'day', 'decisecond', 'exasecond', 'femtosecond', 'gigasecond', 'hectosecond', 'hour', 'kilosecond', 'megasecond', 'microsecond', 'millisecond', 'minute', 'nanosecond', 'petasecond', 'picosecond', 'second', 'terasecond', 'yoctosecond', 'yottasecond', 'zeptosecond', 'zettasecond']. Reader applications may not know what to do with this information.\n",
      "  validated_self = self.__pydantic_validator__.validate_python(data, self_instance=self)\n",
      "/Users/fukai/projects/laptrack/.venv/lib/python3.12/site-packages/pydantic/main.py:253: UserWarning: Spatial unit px not in valid OME-Zarr units [None, 'angstrom', 'attometer', 'centimeter', 'decimeter', 'exameter', 'femtometer', 'foot', 'gigameter', 'hectometer', 'inch', 'kilometer', 'megameter', 'meter', 'micrometer', 'mile', 'millimeter', 'nanometer', 'parsec', 'petameter', 'picometer', 'terameter', 'yard', 'yoctometer', 'yottameter', 'zeptometer', 'zettameter']. Reader applications may not know what to do with this information.\n",
      "  validated_self = self.__pydantic_validator__.validate_python(data, self_instance=self)\n",
      "/Users/fukai/projects/laptrack/.venv/lib/python3.12/site-packages/pydantic/_internal/_validators.py:52: UserWarning: Temporal unit frame not in valid OME-Zarr units [None, 'attosecond', 'centisecond', 'day', 'decisecond', 'exasecond', 'femtosecond', 'gigasecond', 'hectosecond', 'hour', 'kilosecond', 'megasecond', 'microsecond', 'millisecond', 'minute', 'nanosecond', 'petasecond', 'picosecond', 'second', 'terasecond', 'yoctosecond', 'yottasecond', 'zeptosecond', 'zettasecond']. Reader applications may not know what to do with this information.\n",
      "  v_list = validator(input_value)\n",
      "/Users/fukai/projects/laptrack/.venv/lib/python3.12/site-packages/pydantic/_internal/_validators.py:52: UserWarning: Spatial unit px not in valid OME-Zarr units [None, 'angstrom', 'attometer', 'centimeter', 'decimeter', 'exameter', 'femtometer', 'foot', 'gigameter', 'hectometer', 'inch', 'kilometer', 'megameter', 'meter', 'micrometer', 'mile', 'millimeter', 'nanometer', 'parsec', 'petameter', 'picometer', 'terameter', 'yard', 'yoctometer', 'yottameter', 'zeptometer', 'zettameter']. Reader applications may not know what to do with this information.\n",
      "  v_list = validator(input_value)\n"
     ]
    }
   ],
   "source": [
    "!laptrack track --csv_path command_line_data/regionprops.csv \\\n",
    "    --metadata_path command_line_data/metadata.json \\\n",
    "    --output_path {zarr_path}/tracks.geff \\\n",
    "    --coordinate_cols y x \\\n",
    "    --frame_col frame \\\n",
    "    --metric sqeuclidean \\\n",
    "    --cutoff 225 \\\n",
    "    --splitting_metric sqeuclidean \\\n",
    "    --splitting_cutoff 225 \\"
   ]
  },
  {
   "cell_type": "markdown",
   "id": "0c0b5ec6",
   "metadata": {},
   "source": [
    "## Tracking GEFF to find missing edges"
   ]
  },
  {
   "cell_type": "markdown",
   "id": "c565e3da",
   "metadata": {},
   "source": [
    "Making a geff file with missing edges"
   ]
  },
  {
   "cell_type": "code",
   "execution_count": 30,
   "id": "d731c2da",
   "metadata": {},
   "outputs": [
    {
     "name": "stderr",
     "output_type": "stream",
     "text": [
      "/Users/fukai/projects/laptrack/.venv/lib/python3.12/site-packages/pydantic/_internal/_validators.py:52: UserWarning: Temporal unit frame not in valid OME-Zarr units [None, 'attosecond', 'centisecond', 'day', 'decisecond', 'exasecond', 'femtosecond', 'gigasecond', 'hectosecond', 'hour', 'kilosecond', 'megasecond', 'microsecond', 'millisecond', 'minute', 'nanosecond', 'petasecond', 'picosecond', 'second', 'terasecond', 'yoctosecond', 'yottasecond', 'zeptosecond', 'zettasecond']. Reader applications may not know what to do with this information.\n",
      "  v_list = validator(input_value)\n",
      "/Users/fukai/projects/laptrack/.venv/lib/python3.12/site-packages/pydantic/_internal/_validators.py:52: UserWarning: Spatial unit px not in valid OME-Zarr units [None, 'angstrom', 'attometer', 'centimeter', 'decimeter', 'exameter', 'femtometer', 'foot', 'gigameter', 'hectometer', 'inch', 'kilometer', 'megameter', 'meter', 'micrometer', 'mile', 'millimeter', 'nanometer', 'parsec', 'petameter', 'picometer', 'terameter', 'yard', 'yoctometer', 'yottameter', 'zeptometer', 'zettameter']. Reader applications may not know what to do with this information.\n",
      "  v_list = validator(input_value)\n"
     ]
    },
    {
     "name": "stdout",
     "output_type": "stream",
     "text": [
      "rm: cannot remove '/var/folders/pz/_dlzclyn4mjgvngf1dpfg_880000gn/T/images.zarr/tracks_missing_edges.geff': No such file or directory\n"
     ]
    },
    {
     "name": "stderr",
     "output_type": "stream",
     "text": [
      "/Users/fukai/projects/laptrack/.venv/lib/python3.12/site-packages/pydantic/main.py:253: UserWarning: Temporal unit frame not in valid OME-Zarr units [None, 'attosecond', 'centisecond', 'day', 'decisecond', 'exasecond', 'femtosecond', 'gigasecond', 'hectosecond', 'hour', 'kilosecond', 'megasecond', 'microsecond', 'millisecond', 'minute', 'nanosecond', 'petasecond', 'picosecond', 'second', 'terasecond', 'yoctosecond', 'yottasecond', 'zeptosecond', 'zettasecond']. Reader applications may not know what to do with this information.\n",
      "  validated_self = self.__pydantic_validator__.validate_python(data, self_instance=self)\n",
      "/Users/fukai/projects/laptrack/.venv/lib/python3.12/site-packages/pydantic/main.py:253: UserWarning: Spatial unit px not in valid OME-Zarr units [None, 'angstrom', 'attometer', 'centimeter', 'decimeter', 'exameter', 'femtometer', 'foot', 'gigameter', 'hectometer', 'inch', 'kilometer', 'megameter', 'meter', 'micrometer', 'mile', 'millimeter', 'nanometer', 'parsec', 'petameter', 'picometer', 'terameter', 'yard', 'yoctometer', 'yottameter', 'zeptometer', 'zettameter']. Reader applications may not know what to do with this information.\n",
      "  validated_self = self.__pydantic_validator__.validate_python(data, self_instance=self)\n"
     ]
    }
   ],
   "source": [
    "geff_tree, meta = geff.read_nx(zarr_path / \"tracks.geff\")\n",
    "all_edges = list(geff_tree.edges)\n",
    "for e in np.random.choice(len(geff_tree.edges), 20, replace=False):\n",
    "    e2 = all_edges[e]\n",
    "    geff_tree.remove_edge(e2[0], e2[1])\n",
    "!rm -r {zarr_path}/tracks_missing_edges.geff\n",
    "geff.write_nx(\n",
    "    geff_tree,\n",
    "    zarr_path / \"tracks_missing_edges.geff\",\n",
    "    metadata=meta,\n",
    ")"
   ]
  },
  {
   "cell_type": "code",
   "execution_count": 13,
   "id": "a24d8b34",
   "metadata": {},
   "outputs": [
    {
     "name": "stdout",
     "output_type": "stream",
     "text": [
      "/Users/fukai/projects/laptrack/.venv/lib/python3.12/site-packages/pydantic/_internal/_validators.py:52: UserWarning: Temporal unit frame not in valid OME-Zarr units [None, 'attosecond', 'centisecond', 'day', 'decisecond', 'exasecond', 'femtosecond', 'gigasecond', 'hectosecond', 'hour', 'kilosecond', 'megasecond', 'microsecond', 'millisecond', 'minute', 'nanosecond', 'petasecond', 'picosecond', 'second', 'terasecond', 'yoctosecond', 'yottasecond', 'zeptosecond', 'zettasecond']. Reader applications may not know what to do with this information.\n",
      "  v_list = validator(input_value)\n",
      "/Users/fukai/projects/laptrack/.venv/lib/python3.12/site-packages/pydantic/_internal/_validators.py:52: UserWarning: Spatial unit px not in valid OME-Zarr units [None, 'angstrom', 'attometer', 'centimeter', 'decimeter', 'exameter', 'femtometer', 'foot', 'gigameter', 'hectometer', 'inch', 'kilometer', 'megameter', 'meter', 'micrometer', 'mile', 'millimeter', 'nanometer', 'parsec', 'petameter', 'picometer', 'terameter', 'yard', 'yoctometer', 'yottameter', 'zeptometer', 'zettameter']. Reader applications may not know what to do with this information.\n",
      "  v_list = validator(input_value)\n",
      "/Users/fukai/projects/laptrack/.venv/lib/python3.12/site-packages/pydantic/main.py:253: UserWarning: Temporal unit frame not in valid OME-Zarr units [None, 'attosecond', 'centisecond', 'day', 'decisecond', 'exasecond', 'femtosecond', 'gigasecond', 'hectosecond', 'hour', 'kilosecond', 'megasecond', 'microsecond', 'millisecond', 'minute', 'nanosecond', 'petasecond', 'picosecond', 'second', 'terasecond', 'yoctosecond', 'yottasecond', 'zeptosecond', 'zettasecond']. Reader applications may not know what to do with this information.\n",
      "  validated_self = self.__pydantic_validator__.validate_python(data, self_instance=self)\n",
      "/Users/fukai/projects/laptrack/.venv/lib/python3.12/site-packages/pydantic/main.py:253: UserWarning: Spatial unit px not in valid OME-Zarr units [None, 'angstrom', 'attometer', 'centimeter', 'decimeter', 'exameter', 'femtometer', 'foot', 'gigameter', 'hectometer', 'inch', 'kilometer', 'megameter', 'meter', 'micrometer', 'mile', 'millimeter', 'nanometer', 'parsec', 'petameter', 'picometer', 'terameter', 'yard', 'yoctometer', 'yottameter', 'zeptometer', 'zettameter']. Reader applications may not know what to do with this information.\n",
      "  validated_self = self.__pydantic_validator__.validate_python(data, self_instance=self)\n",
      "/Users/fukai/projects/laptrack/.venv/lib/python3.12/site-packages/pydantic/_internal/_validators.py:52: UserWarning: Temporal unit frame not in valid OME-Zarr units [None, 'attosecond', 'centisecond', 'day', 'decisecond', 'exasecond', 'femtosecond', 'gigasecond', 'hectosecond', 'hour', 'kilosecond', 'megasecond', 'microsecond', 'millisecond', 'minute', 'nanosecond', 'petasecond', 'picosecond', 'second', 'terasecond', 'yoctosecond', 'yottasecond', 'zeptosecond', 'zettasecond']. Reader applications may not know what to do with this information.\n",
      "  v_list = validator(input_value)\n",
      "/Users/fukai/projects/laptrack/.venv/lib/python3.12/site-packages/pydantic/_internal/_validators.py:52: UserWarning: Spatial unit px not in valid OME-Zarr units [None, 'angstrom', 'attometer', 'centimeter', 'decimeter', 'exameter', 'femtometer', 'foot', 'gigameter', 'hectometer', 'inch', 'kilometer', 'megameter', 'meter', 'micrometer', 'mile', 'millimeter', 'nanometer', 'parsec', 'petameter', 'picometer', 'terameter', 'yard', 'yoctometer', 'yottameter', 'zeptometer', 'zettameter']. Reader applications may not know what to do with this information.\n",
      "  v_list = validator(input_value)\n"
     ]
    }
   ],
   "source": [
    "!rm -r {zarr_path}/tracks_retracked.geff\n",
    "!laptrack track --track_geff_path {zarr_path}/tracks_missing_edges.geff \\\n",
    "    --output_path {zarr_path}/tracks_retracked.geff \\\n",
    "    --coordinate_cols y x \\\n",
    "    --frame_col frame \\\n",
    "    --metric sqeuclidean \\\n",
    "    --cutoff 225 \\\n",
    "    --splitting_metric sqeuclidean \\\n",
    "    --splitting_cutoff 225 \\"
   ]
  },
  {
   "cell_type": "markdown",
   "id": "7e45a1c5",
   "metadata": {},
   "source": [
    "## Tracking images by overlap"
   ]
  },
  {
   "cell_type": "code",
   "execution_count": 16,
   "id": "3564c6d8",
   "metadata": {},
   "outputs": [
    {
     "name": "stdout",
     "output_type": "stream",
     "text": [
      "usage: laptrack overlap_track --labels_path LABELS_PATH\n",
      "                              [--image_path IMAGE_PATH]\n",
      "                              [--metadata_path METADATA_PATH] --output_path\n",
      "                              OUTPUT_PATH [--append_relative_object] [-h]\n",
      "                              [--metric METRIC] [--cutoff CUTOFF]\n",
      "                              [--gap_closing_metric GAP_CLOSING_METRIC]\n",
      "                              [--gap_closing_cutoff GAP_CLOSING_CUTOFF]\n",
      "                              [--gap_closing_max_frame_count GAP_CLOSING_MAX_FRAME_COUNT]\n",
      "                              [--splitting_metric SPLITTING_METRIC]\n",
      "                              [--splitting_cutoff SPLITTING_CUTOFF]\n",
      "                              [--merging_metric MERGING_METRIC]\n",
      "                              [--merging_cutoff MERGING_CUTOFF]\n",
      "                              [--track_start_cost TRACK_START_COST]\n",
      "                              [--track_end_cost TRACK_END_COST]\n",
      "                              [--segment_start_cost SEGMENT_START_COST]\n",
      "                              [--segment_end_cost SEGMENT_END_COST]\n",
      "                              [--no_splitting_cost NO_SPLITTING_COST]\n",
      "                              [--no_merging_cost NO_MERGING_COST]\n",
      "                              [--alternative_cost_factor ALTERNATIVE_COST_FACTOR]\n",
      "                              [--alternative_cost_percentile ALTERNATIVE_COST_PERCENTILE]\n",
      "                              [--alternative_cost_percentile_interpolation ALTERNATIVE_COST_PERCENTILE_INTERPOLATION]\n",
      "                              [--parallel_backend PARALLEL_BACKEND]\n",
      "                              [--metric_coefs METRIC_COEFS]\n",
      "                              [--gap_closing_metric_coefs GAP_CLOSING_METRIC_COEFS]\n",
      "                              [--splitting_metric_coefs SPLITTING_METRIC_COEFS]\n",
      "                              [--merging_metric_coefs MERGING_METRIC_COEFS]\n",
      "\n",
      "Arguments for the \"overlap_track\" command.\n",
      "\n",
      "options:\n",
      "  --labels_path LABELS_PATH\n",
      "                        (Path, required) path to input csv file\n",
      "  --image_path IMAGE_PATH\n",
      "                        (pathlib.Path | None, default=None) path to input csv\n",
      "                        file\n",
      "  --metadata_path METADATA_PATH\n",
      "                        (Optional[pathlib.Path], default=None) path to\n",
      "                        metadata file\n",
      "  --output_path OUTPUT_PATH\n",
      "                        (Path, required)\n",
      "  --append_relative_object\n",
      "                        (bool, default=False)\n",
      "  -h, --help            show this help message and exit\n",
      "  --metric METRIC       (default=sqeuclidean)\n",
      "  --cutoff CUTOFF       (default=225)\n",
      "  --gap_closing_metric GAP_CLOSING_METRIC\n",
      "                        (default=sqeuclidean)\n",
      "  --gap_closing_cutoff GAP_CLOSING_CUTOFF\n",
      "                        (default=225)\n",
      "  --gap_closing_max_frame_count GAP_CLOSING_MAX_FRAME_COUNT\n",
      "                        (default=2)\n",
      "  --splitting_metric SPLITTING_METRIC\n",
      "                        (default=sqeuclidean)\n",
      "  --splitting_cutoff SPLITTING_CUTOFF\n",
      "                        (default=False)\n",
      "  --merging_metric MERGING_METRIC\n",
      "                        (default=sqeuclidean)\n",
      "  --merging_cutoff MERGING_CUTOFF\n",
      "                        (default=False)\n",
      "  --track_start_cost TRACK_START_COST\n",
      "                        (default=None)\n",
      "  --track_end_cost TRACK_END_COST\n",
      "                        (default=None)\n",
      "  --segment_start_cost SEGMENT_START_COST\n",
      "                        (default=None)\n",
      "  --segment_end_cost SEGMENT_END_COST\n",
      "                        (default=None)\n",
      "  --no_splitting_cost NO_SPLITTING_COST\n",
      "                        (default=None)\n",
      "  --no_merging_cost NO_MERGING_COST\n",
      "                        (default=None)\n",
      "  --alternative_cost_factor ALTERNATIVE_COST_FACTOR\n",
      "                        (default=1.05)\n",
      "  --alternative_cost_percentile ALTERNATIVE_COST_PERCENTILE\n",
      "                        (default=90)\n",
      "  --alternative_cost_percentile_interpolation ALTERNATIVE_COST_PERCENTILE_INTERPOLATION\n",
      "                        (default=lower)\n",
      "  --parallel_backend PARALLEL_BACKEND\n",
      "                        (default=ParallelBackend.serial)\n",
      "  --metric_coefs METRIC_COEFS\n",
      "                        (default=(1.0, 0.0, 0.0, 0.0, -1.0))\n",
      "  --gap_closing_metric_coefs GAP_CLOSING_METRIC_COEFS\n",
      "                        (default=(1.0, 0.0, 0.0, 0.0, -1.0))\n",
      "  --splitting_metric_coefs SPLITTING_METRIC_COEFS\n",
      "                        (default=(1.0, 0.0, 0.0, 0.0, -1.0))\n",
      "  --merging_metric_coefs MERGING_METRIC_COEFS\n",
      "                        (default=(1.0, 0.0, 0.0, 0.0, -1.0))\n"
     ]
    }
   ],
   "source": [
    "!laptrack overlap_track --help"
   ]
  },
  {
   "cell_type": "code",
   "execution_count": 33,
   "id": "02918c6d",
   "metadata": {},
   "outputs": [
    {
     "name": "stdout",
     "output_type": "stream",
     "text": [
      "0  1\n"
     ]
    }
   ],
   "source": [
    "!ls {zarr_path}/labels/c"
   ]
  },
  {
   "cell_type": "code",
   "execution_count": 46,
   "id": "e999fb31",
   "metadata": {},
   "outputs": [
    {
     "name": "stdout",
     "output_type": "stream",
     "text": [
      "Traceback (most recent call last):\n",
      "  File \"/Users/fukai/projects/laptrack/.venv/bin/laptrack\", line 6, in <module>\n",
      "    sys.exit(main())\n",
      "             ^^^^^^\n",
      "  File \"/Users/fukai/projects/laptrack/src/laptrack/__main__.py\", line 233, in main\n",
      "    overlap_track(args)\n",
      "  File \"/Users/fukai/projects/laptrack/src/laptrack/__main__.py\", line 197, in overlap_track\n",
      "    related_obj_path = args.labels_path.absolute().relative_to(\n",
      "                       ^^^^^^^^^^^^^^^^^^^^^^^^^^^^^^^^^^^^^^^^\n",
      "  File \"/Users/fukai/.local/share/uv/python/cpython-3.12.11-macos-x86_64-none/lib/python3.12/pathlib.py\", line 682, in relative_to\n",
      "    raise ValueError(f\"{str(self)!r} is not in the subpath of {str(other)!r}\")\n",
      "ValueError: '/var/folders/pz/_dlzclyn4mjgvngf1dpfg_880000gn/T/images.zarr/labels' is not in the subpath of '/var/folders/pz/_dlzclyn4mjgvngf1dpfg_880000gn/T/images.zarr/tracks_overlap.geff'\n"
     ]
    }
   ],
   "source": [
    "!laptrack overlap_track --labels_path {zarr_path}/labels \\\n",
    "    --image_path {zarr_path}/image \\\n",
    "    --output_path {zarr_path}/tracks_overlap.geff \\\n",
    "    --append_relative_objects "
   ]
  }
 ],
 "metadata": {
  "kernelspec": {
   "display_name": "laptrack-py3.12",
   "language": "python",
   "name": "python3"
  },
  "language_info": {
   "codemirror_mode": {
    "name": "ipython",
    "version": 3
   },
   "file_extension": ".py",
   "mimetype": "text/x-python",
   "name": "python",
   "nbconvert_exporter": "python",
   "pygments_lexer": "ipython3",
   "version": "3.12.11"
  }
 },
 "nbformat": 4,
 "nbformat_minor": 5
}
