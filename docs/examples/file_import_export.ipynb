{
 "cells": [
  {
   "cell_type": "markdown",
   "id": "5d299db0",
   "metadata": {},
   "source": [
    "# Example of reading / saving data from / to GEFF"
   ]
  },
  {
   "cell_type": "markdown",
   "id": "bc43f159",
   "metadata": {},
   "source": [
    "This example illustrates how we can save the tracked data into a GEFF (Graph Exchange File Format)."
   ]
  },
  {
   "cell_type": "code",
   "execution_count": 27,
   "id": "b12fc821",
   "metadata": {},
   "outputs": [],
   "source": [
    "from laptrack import LapTrack\n",
    "from laptrack import data_conversion\n",
    "from laptrack import datasets\n",
    "import geff\n",
    "import tempfile\n",
    "from pathlib import Path\n",
    "import os\n",
    "import shutil"
   ]
  },
  {
   "cell_type": "code",
   "execution_count": 2,
   "id": "5fec4807",
   "metadata": {},
   "outputs": [],
   "source": [
    "lt = LapTrack(\n",
    "    metric=\"sqeuclidean\",\n",
    "    cutoff=15**2,\n",
    "    splitting_metric=\"sqeuclidean\",\n",
    "    merging_metric=\"sqeuclidean\",\n",
    "    splitting_cutoff=15**2,\n",
    "    merging_cutoff=15**2,\n",
    ")"
   ]
  },
  {
   "cell_type": "code",
   "execution_count": 3,
   "id": "d68146f4",
   "metadata": {},
   "outputs": [
    {
     "data": {
      "text/html": [
       "<div>\n",
       "<style scoped>\n",
       "    .dataframe tbody tr th:only-of-type {\n",
       "        vertical-align: middle;\n",
       "    }\n",
       "\n",
       "    .dataframe tbody tr th {\n",
       "        vertical-align: top;\n",
       "    }\n",
       "\n",
       "    .dataframe thead th {\n",
       "        text-align: right;\n",
       "    }\n",
       "</style>\n",
       "<table border=\"1\" class=\"dataframe\">\n",
       "  <thead>\n",
       "    <tr style=\"text-align: right;\">\n",
       "      <th></th>\n",
       "      <th>frame</th>\n",
       "      <th>position_x</th>\n",
       "      <th>position_y</th>\n",
       "    </tr>\n",
       "  </thead>\n",
       "  <tbody>\n",
       "    <tr>\n",
       "      <th>0</th>\n",
       "      <td>0</td>\n",
       "      <td>178.412575</td>\n",
       "      <td>185.188661</td>\n",
       "    </tr>\n",
       "    <tr>\n",
       "      <th>1</th>\n",
       "      <td>1</td>\n",
       "      <td>236.963642</td>\n",
       "      <td>219.971473</td>\n",
       "    </tr>\n",
       "    <tr>\n",
       "      <th>2</th>\n",
       "      <td>1</td>\n",
       "      <td>185.175899</td>\n",
       "      <td>185.188661</td>\n",
       "    </tr>\n",
       "    <tr>\n",
       "      <th>3</th>\n",
       "      <td>2</td>\n",
       "      <td>190.006845</td>\n",
       "      <td>182.483331</td>\n",
       "    </tr>\n",
       "    <tr>\n",
       "      <th>4</th>\n",
       "      <td>2</td>\n",
       "      <td>190.200083</td>\n",
       "      <td>188.280466</td>\n",
       "    </tr>\n",
       "  </tbody>\n",
       "</table>\n",
       "</div>"
      ],
      "text/plain": [
       "   frame  position_x  position_y\n",
       "0      0  178.412575  185.188661\n",
       "1      1  236.963642  219.971473\n",
       "2      1  185.175899  185.188661\n",
       "3      2  190.006845  182.483331\n",
       "4      2  190.200083  188.280466"
      ]
     },
     "execution_count": 3,
     "metadata": {},
     "output_type": "execute_result"
    }
   ],
   "source": [
    "spots_df = datasets.simple_tracks()\n",
    "coordinate_cols = [\"position_x\", \"position_y\"]\n",
    "frame_col = \"frame\"\n",
    "spots_df.head()"
   ]
  },
  {
   "cell_type": "code",
   "execution_count": 4,
   "id": "49ae32cc",
   "metadata": {},
   "outputs": [
    {
     "data": {
      "text/html": [
       "<div>\n",
       "<style scoped>\n",
       "    .dataframe tbody tr th:only-of-type {\n",
       "        vertical-align: middle;\n",
       "    }\n",
       "\n",
       "    .dataframe tbody tr th {\n",
       "        vertical-align: top;\n",
       "    }\n",
       "\n",
       "    .dataframe thead th {\n",
       "        text-align: right;\n",
       "    }\n",
       "</style>\n",
       "<table border=\"1\" class=\"dataframe\">\n",
       "  <thead>\n",
       "    <tr style=\"text-align: right;\">\n",
       "      <th></th>\n",
       "      <th>frame</th>\n",
       "      <th>position_x</th>\n",
       "      <th>position_y</th>\n",
       "      <th>tree_id</th>\n",
       "      <th>track_id</th>\n",
       "    </tr>\n",
       "  </thead>\n",
       "  <tbody>\n",
       "    <tr>\n",
       "      <th>0</th>\n",
       "      <td>0</td>\n",
       "      <td>178.412575</td>\n",
       "      <td>185.188661</td>\n",
       "      <td>0</td>\n",
       "      <td>0</td>\n",
       "    </tr>\n",
       "    <tr>\n",
       "      <th>1</th>\n",
       "      <td>1</td>\n",
       "      <td>236.963642</td>\n",
       "      <td>219.971473</td>\n",
       "      <td>1</td>\n",
       "      <td>1</td>\n",
       "    </tr>\n",
       "    <tr>\n",
       "      <th>2</th>\n",
       "      <td>1</td>\n",
       "      <td>185.175899</td>\n",
       "      <td>185.188661</td>\n",
       "      <td>0</td>\n",
       "      <td>0</td>\n",
       "    </tr>\n",
       "    <tr>\n",
       "      <th>3</th>\n",
       "      <td>2</td>\n",
       "      <td>190.006845</td>\n",
       "      <td>182.483331</td>\n",
       "      <td>0</td>\n",
       "      <td>2</td>\n",
       "    </tr>\n",
       "    <tr>\n",
       "      <th>4</th>\n",
       "      <td>2</td>\n",
       "      <td>190.200083</td>\n",
       "      <td>188.280466</td>\n",
       "      <td>0</td>\n",
       "      <td>3</td>\n",
       "    </tr>\n",
       "  </tbody>\n",
       "</table>\n",
       "</div>"
      ],
      "text/plain": [
       "   frame  position_x  position_y  tree_id  track_id\n",
       "0      0  178.412575  185.188661        0         0\n",
       "1      1  236.963642  219.971473        1         1\n",
       "2      1  185.175899  185.188661        0         0\n",
       "3      2  190.006845  182.483331        0         2\n",
       "4      2  190.200083  188.280466        0         3"
      ]
     },
     "execution_count": 4,
     "metadata": {},
     "output_type": "execute_result"
    }
   ],
   "source": [
    "track_df, split_df, merge_df = lt.predict_dataframe(\n",
    "    spots_df,\n",
    "    coordinate_cols=coordinate_cols,\n",
    "    frame_col=frame_col,\n",
    ")\n",
    "\n",
    "track_df.head()"
   ]
  },
  {
   "cell_type": "code",
   "execution_count": 17,
   "id": "8fe2bf20",
   "metadata": {},
   "outputs": [],
   "source": [
    "geff_networks = data_conversion.dataframes_to_geff_networkx(\n",
    "    track_df,\n",
    "    split_df,\n",
    "    merge_df,\n",
    "    coordinate_cols=coordinate_cols + [\"track_id\"],\n",
    "    frame_col=frame_col,\n",
    ")\n",
    "for track_id in geff_networks.lineage_tree.nodes:\n",
    "    geff_networks.lineage_tree.nodes[track_id][\"length\"] = len(\n",
    "        list(\n",
    "            filter(\n",
    "                lambda n: n[1][\"track_id\"] == track_id,\n",
    "                geff_networks.tree.nodes(data=True),\n",
    "            )\n",
    "        )\n",
    "    )"
   ]
  },
  {
   "cell_type": "code",
   "execution_count": 18,
   "id": "56da38ad",
   "metadata": {},
   "outputs": [
    {
     "name": "stdout",
     "output_type": "stream",
     "text": [
      "{'frame': 0, 'position_x': np.float64(178.4125746427294), 'position_y': np.float64(185.18866073671265), 'track_id': np.float64(0.0)}\n",
      "{'length': 2}\n"
     ]
    }
   ],
   "source": [
    "print(geff_networks.tree.nodes[0])\n",
    "print(geff_networks.lineage_tree.nodes[0])"
   ]
  },
  {
   "cell_type": "code",
   "execution_count": 30,
   "id": "3329e792",
   "metadata": {},
   "outputs": [
    {
     "name": "stderr",
     "output_type": "stream",
     "text": [
      "/Users/fukai/projects/laptrack/.venv/lib/python3.12/site-packages/pydantic/main.py:253: UserWarning: Temporal unit frame not in valid OME-Zarr units [None, 'attosecond', 'centisecond', 'day', 'decisecond', 'exasecond', 'femtosecond', 'gigasecond', 'hectosecond', 'hour', 'kilosecond', 'megasecond', 'microsecond', 'millisecond', 'minute', 'nanosecond', 'petasecond', 'picosecond', 'second', 'terasecond', 'yoctosecond', 'yottasecond', 'zeptosecond', 'zettasecond']. Reader applications may not know what to do with this information.\n",
      "  validated_self = self.__pydantic_validator__.validate_python(data, self_instance=self)\n",
      "/Users/fukai/projects/laptrack/.venv/lib/python3.12/site-packages/pydantic/main.py:253: UserWarning: Spatial unit px not in valid OME-Zarr units [None, 'angstrom', 'attometer', 'centimeter', 'decimeter', 'exameter', 'femtometer', 'foot', 'gigameter', 'hectometer', 'inch', 'kilometer', 'megameter', 'meter', 'micrometer', 'mile', 'millimeter', 'nanometer', 'parsec', 'petameter', 'picometer', 'terameter', 'yard', 'yoctometer', 'yottameter', 'zeptometer', 'zettameter']. Reader applications may not know what to do with this information.\n",
      "  validated_self = self.__pydantic_validator__.validate_python(data, self_instance=self)\n",
      "/Users/fukai/projects/laptrack/.venv/lib/python3.12/site-packages/pydantic/_internal/_validators.py:52: UserWarning: Temporal unit frame not in valid OME-Zarr units [None, 'attosecond', 'centisecond', 'day', 'decisecond', 'exasecond', 'femtosecond', 'gigasecond', 'hectosecond', 'hour', 'kilosecond', 'megasecond', 'microsecond', 'millisecond', 'minute', 'nanosecond', 'petasecond', 'picosecond', 'second', 'terasecond', 'yoctosecond', 'yottasecond', 'zeptosecond', 'zettasecond']. Reader applications may not know what to do with this information.\n",
      "  v_list = validator(input_value)\n",
      "/Users/fukai/projects/laptrack/.venv/lib/python3.12/site-packages/pydantic/_internal/_validators.py:52: UserWarning: Spatial unit px not in valid OME-Zarr units [None, 'angstrom', 'attometer', 'centimeter', 'decimeter', 'exameter', 'femtometer', 'foot', 'gigameter', 'hectometer', 'inch', 'kilometer', 'megameter', 'meter', 'micrometer', 'mile', 'millimeter', 'nanometer', 'parsec', 'petameter', 'picometer', 'terameter', 'yard', 'yoctometer', 'yottameter', 'zeptometer', 'zettameter']. Reader applications may not know what to do with this information.\n",
      "  v_list = validator(input_value)\n"
     ]
    },
    {
     "name": "stdout",
     "output_type": "stream",
     "text": [
      "length\n",
      "edges  linage_tree.geff  nodes\n"
     ]
    }
   ],
   "source": [
    "temp_dir = tempfile.gettempdir()\n",
    "f = Path(temp_dir) / \"tree.geff\"\n",
    "shutil.rmtree(f)\n",
    "geff.write_nx(\n",
    "    geff_networks.tree,\n",
    "    f,\n",
    "    axis_names=[frame_col] + coordinate_cols,\n",
    "    axis_types=[\"time\", \"space\", \"space\"],\n",
    "    axis_units=[\"frame\", \"px\", \"px\"],\n",
    ")\n",
    "geff.validate(f)\n",
    "\n",
    "geff.write_nx(\n",
    "    geff_networks.lineage_tree,\n",
    "    f / \"linage_tree.geff\",\n",
    ")\n",
    "!ls {f / \"linage_tree.geff\" / \"nodes\" / \"props\"}\n",
    "!ls {temp_dir}/\"tree.geff\""
   ]
  },
  {
   "cell_type": "code",
   "execution_count": null,
   "id": "e9a44ebd",
   "metadata": {},
   "outputs": [],
   "source": []
  }
 ],
 "metadata": {
  "kernelspec": {
   "display_name": "laptrack-py3.12",
   "language": "python",
   "name": "python3"
  },
  "language_info": {
   "codemirror_mode": {
    "name": "ipython",
    "version": 3
   },
   "file_extension": ".py",
   "mimetype": "text/x-python",
   "name": "python",
   "nbconvert_exporter": "python",
   "pygments_lexer": "ipython3",
   "version": "3.12.11"
  }
 },
 "nbformat": 4,
 "nbformat_minor": 5
}
