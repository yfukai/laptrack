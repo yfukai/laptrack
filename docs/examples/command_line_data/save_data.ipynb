{
 "cells": [
  {
   "cell_type": "code",
   "execution_count": 1,
   "id": "2ba39288",
   "metadata": {},
   "outputs": [],
   "source": [
    "import geff"
   ]
  },
  {
   "cell_type": "code",
   "execution_count": 2,
   "id": "f7a91bf7",
   "metadata": {},
   "outputs": [
    {
     "name": "stderr",
     "output_type": "stream",
     "text": [
      "/Users/fukai/projects/laptrack/.venv/lib/python3.12/site-packages/pydantic/_internal/_validators.py:52: UserWarning: Temporal unit frame not in valid OME-Zarr units [None, 'attosecond', 'centisecond', 'day', 'decisecond', 'exasecond', 'femtosecond', 'gigasecond', 'hectosecond', 'hour', 'kilosecond', 'megasecond', 'microsecond', 'millisecond', 'minute', 'nanosecond', 'petasecond', 'picosecond', 'second', 'terasecond', 'yoctosecond', 'yottasecond', 'zeptosecond', 'zettasecond']. Reader applications may not know what to do with this information.\n",
      "  v_list = validator(input_value)\n",
      "/Users/fukai/projects/laptrack/.venv/lib/python3.12/site-packages/pydantic/_internal/_validators.py:52: UserWarning: Spatial unit px not in valid OME-Zarr units [None, 'angstrom', 'attometer', 'centimeter', 'decimeter', 'exameter', 'femtometer', 'foot', 'gigameter', 'hectometer', 'inch', 'kilometer', 'megameter', 'meter', 'micrometer', 'mile', 'millimeter', 'nanometer', 'parsec', 'petameter', 'picometer', 'terameter', 'yard', 'yoctometer', 'yottameter', 'zeptometer', 'zettameter']. Reader applications may not know what to do with this information.\n",
      "  v_list = validator(input_value)\n"
     ]
    }
   ],
   "source": [
    "meta = geff.GeffMetadata(\n",
    "    axes=[\n",
    "        {\"name\": \"frame\", \"type\": \"time\", \"unit\": \"frame\"},\n",
    "        {\"name\": \"y\", \"type\": \"space\", \"unit\": \"px\"},\n",
    "        {\"name\": \"x\", \"type\": \"space\", \"unit\": \"px\"},\n",
    "    ],\n",
    "    related_objects=[\n",
    "        {\"type\": \"image\", \"path\": \"../image\"},\n",
    "        {\"type\": \"labels\", \"path\": \"../labels\", \"label_prop\": \"seg_id\"},\n",
    "    ],\n",
    "    track_node_props={\"lineage\": \"tree_id\", \"tracklet\": \"track_id\"},\n",
    "    directed=True,\n",
    ")\n",
    "with open(\"metadata.json\", \"w\") as f:\n",
    "    f.write(meta.model_dump_json(indent=2))"
   ]
  },
  {
   "cell_type": "code",
   "execution_count": 3,
   "id": "524841df",
   "metadata": {},
   "outputs": [],
   "source": [
    "from skimage.measure import regionprops_table\n",
    "\n",
    "import pandas as pd\n",
    "from laptrack import datasets\n",
    "import zarr"
   ]
  },
  {
   "cell_type": "code",
   "execution_count": 9,
   "id": "80dff05c",
   "metadata": {},
   "outputs": [],
   "source": [
    "images, labels = datasets.cell_segmentation()\n",
    "regionprops = []\n",
    "for frame, label in enumerate(labels):\n",
    "    df = pd.DataFrame(regionprops_table(label, properties=[\"label\", \"centroid\"]))\n",
    "    df[\"frame\"] = frame\n",
    "    regionprops.append(df)\n",
    "regionprops_df = pd.concat(regionprops).rename(\n",
    "    columns={\"centroid-0\": \"y\", \"centroid-1\": \"x\"}\n",
    ")"
   ]
  },
  {
   "cell_type": "code",
   "execution_count": 10,
   "id": "dfc0a781",
   "metadata": {},
   "outputs": [
    {
     "data": {
      "text/plain": [
       "<Array file://images.zarr/labels shape=(10, 234, 234) dtype=uint8>"
      ]
     },
     "execution_count": 10,
     "metadata": {},
     "output_type": "execute_result"
    }
   ],
   "source": [
    "ds = zarr.open(\"images.zarr\", mode=\"w\")\n",
    "ds.create_array(\"image\", data=images)\n",
    "ds.create_array(\"labels\", data=labels)"
   ]
  },
  {
   "cell_type": "code",
   "execution_count": 11,
   "id": "133507df",
   "metadata": {},
   "outputs": [
    {
     "data": {
      "text/plain": [
       "(10, 234, 234)"
      ]
     },
     "execution_count": 11,
     "metadata": {},
     "output_type": "execute_result"
    }
   ],
   "source": [
    "ds[\"image\"].shape"
   ]
  },
  {
   "cell_type": "code",
   "execution_count": 12,
   "id": "51eef8fc",
   "metadata": {},
   "outputs": [],
   "source": [
    "regionprops_df.to_csv(\"regionprops.csv\", index=False)"
   ]
  },
  {
   "cell_type": "code",
   "execution_count": null,
   "id": "22357bc7",
   "metadata": {},
   "outputs": [],
   "source": []
  }
 ],
 "metadata": {
  "kernelspec": {
   "display_name": "laptrack-py3.12",
   "language": "python",
   "name": "python3"
  },
  "language_info": {
   "codemirror_mode": {
    "name": "ipython",
    "version": 3
   },
   "file_extension": ".py",
   "mimetype": "text/x-python",
   "name": "python",
   "nbconvert_exporter": "python",
   "pygments_lexer": "ipython3",
   "version": "3.12.11"
  }
 },
 "nbformat": 4,
 "nbformat_minor": 5
}
