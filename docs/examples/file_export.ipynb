{
 "cells": [
  {
   "cell_type": "code",
   "execution_count": 2,
   "id": "e758a8fe",
   "metadata": {},
   "outputs": [
    {
     "name": "stdout",
     "output_type": "stream",
     "text": [
      "Collecting git+https://github.com/live-image-tracking-tools/geff\n",
      "  Cloning https://github.com/live-image-tracking-tools/geff to /private/var/folders/pz/_dlzclyn4mjgvngf1dpfg_880000gn/T/pip-req-build-28e6s1f5\n",
      "  Running command git clone --filter=blob:none --quiet https://github.com/live-image-tracking-tools/geff /private/var/folders/pz/_dlzclyn4mjgvngf1dpfg_880000gn/T/pip-req-build-28e6s1f5\n",
      "  Resolved https://github.com/live-image-tracking-tools/geff to commit f8cc42c6d70afd9da5937f9a10656d3ca979ac12\n",
      "  Installing build dependencies ... \u001b[?25ldone\n",
      "\u001b[?25h  Getting requirements to build wheel ... \u001b[?25ldone\n",
      "\u001b[?25h  Preparing metadata (pyproject.toml) ... \u001b[?25ldone\n",
      "\u001b[?25hRequirement already satisfied: zarr<4,>2 in /Users/fukai/projects/laptrack/.venv/lib/python3.12/site-packages (from geff==0.3.1.dev20+gf8cc42c) (2.18.7)\n",
      "Requirement already satisfied: pydantic>=2 in /Users/fukai/projects/laptrack/.venv/lib/python3.12/site-packages (from geff==0.3.1.dev20+gf8cc42c) (2.11.7)\n",
      "Requirement already satisfied: numcodecs<0.16 in /Users/fukai/projects/laptrack/.venv/lib/python3.12/site-packages (from geff==0.3.1.dev20+gf8cc42c) (0.15.1)\n",
      "Requirement already satisfied: networkx in /Users/fukai/projects/laptrack/.venv/lib/python3.12/site-packages (from geff==0.3.1.dev20+gf8cc42c) (3.5)\n",
      "Requirement already satisfied: numpy>=1.24 in /Users/fukai/projects/laptrack/.venv/lib/python3.12/site-packages (from numcodecs<0.16->geff==0.3.1.dev20+gf8cc42c) (2.2.6)\n",
      "Requirement already satisfied: deprecated in /Users/fukai/projects/laptrack/.venv/lib/python3.12/site-packages (from numcodecs<0.16->geff==0.3.1.dev20+gf8cc42c) (1.2.18)\n",
      "Requirement already satisfied: asciitree in /Users/fukai/projects/laptrack/.venv/lib/python3.12/site-packages (from zarr<4,>2->geff==0.3.1.dev20+gf8cc42c) (0.3.3)\n",
      "Requirement already satisfied: fasteners in /Users/fukai/projects/laptrack/.venv/lib/python3.12/site-packages (from zarr<4,>2->geff==0.3.1.dev20+gf8cc42c) (0.19)\n",
      "Requirement already satisfied: annotated-types>=0.6.0 in /Users/fukai/projects/laptrack/.venv/lib/python3.12/site-packages (from pydantic>=2->geff==0.3.1.dev20+gf8cc42c) (0.7.0)\n",
      "Requirement already satisfied: pydantic-core==2.33.2 in /Users/fukai/projects/laptrack/.venv/lib/python3.12/site-packages (from pydantic>=2->geff==0.3.1.dev20+gf8cc42c) (2.33.2)\n",
      "Requirement already satisfied: typing-extensions>=4.12.2 in /Users/fukai/projects/laptrack/.venv/lib/python3.12/site-packages (from pydantic>=2->geff==0.3.1.dev20+gf8cc42c) (4.14.1)\n",
      "Requirement already satisfied: typing-inspection>=0.4.0 in /Users/fukai/projects/laptrack/.venv/lib/python3.12/site-packages (from pydantic>=2->geff==0.3.1.dev20+gf8cc42c) (0.4.1)\n",
      "Requirement already satisfied: wrapt<2,>=1.10 in /Users/fukai/projects/laptrack/.venv/lib/python3.12/site-packages (from deprecated->numcodecs<0.16->geff==0.3.1.dev20+gf8cc42c) (1.17.2)\n",
      "Building wheels for collected packages: geff\n",
      "  Building wheel for geff (pyproject.toml) ... \u001b[?25ldone\n",
      "\u001b[?25h  Created wheel for geff: filename=geff-0.3.1.dev20+gf8cc42c-py3-none-any.whl size=24999 sha256=7d31d6bddb04356d9452bb7f2ee13695c3c3a576db2476cb9bd29e2c6883c522\n",
      "  Stored in directory: /private/var/folders/pz/_dlzclyn4mjgvngf1dpfg_880000gn/T/pip-ephem-wheel-cache-cb5trxrv/wheels/e9/dd/fc/b6f61f96fb4d4d6b35e8e078efad1304f9414c31d1b807e9e5\n",
      "Successfully built geff\n",
      "Installing collected packages: geff\n",
      "  Attempting uninstall: geff\n",
      "    Found existing installation: geff 0.2.1\n",
      "    Uninstalling geff-0.2.1:\n",
      "      Successfully uninstalled geff-0.2.1\n",
      "Successfully installed geff-0.3.1.dev20+gf8cc42c\n",
      "Note: you may need to restart the kernel to use updated packages.\n"
     ]
    }
   ],
   "source": [
    "%pip install git+https://github.com/live-image-tracking-tools/geff"
   ]
  },
  {
   "cell_type": "code",
   "execution_count": 1,
   "id": "b12fc821",
   "metadata": {},
   "outputs": [],
   "source": [
    "from laptrack import LapTrack\n",
    "from laptrack import data_conversion\n",
    "from laptrack import datasets\n",
    "import geff"
   ]
  },
  {
   "cell_type": "code",
   "execution_count": 2,
   "id": "5fec4807",
   "metadata": {},
   "outputs": [],
   "source": [
    "lt = LapTrack(\n",
    "    metric=\"sqeuclidean\",\n",
    "    cutoff=15**2,\n",
    "    splitting_metric=\"sqeuclidean\",\n",
    "    merging_metric=\"sqeuclidean\",\n",
    "    splitting_cutoff=15**2,\n",
    "    merging_cutoff=15**2,\n",
    ")"
   ]
  },
  {
   "cell_type": "code",
   "execution_count": 3,
   "id": "49ae32cc",
   "metadata": {},
   "outputs": [
    {
     "name": "stderr",
     "output_type": "stream",
     "text": [
      "Downloading file 'sample_data.csv' from 'https://raw.githubusercontent.com/yfukai/laptrack/97943e8b61a5fa6e9cdabf2968037c4b1f8cbf32/docs/examples/sample_data.csv' to '/Users/fukai/Library/Caches/laptrack'.\n",
      "/Users/fukai/projects/laptrack/src/laptrack/_tracking.py:808: FutureWarning: The parameter only_coordinate_cols will be False by default in the major release.\n",
      "  warnings.warn(\n"
     ]
    }
   ],
   "source": [
    "spots_df = datasets.simple_tracks()\n",
    "track_df, split_df, merge_df = lt.predict_dataframe(\n",
    "    spots_df, coordinate_cols=[\"position_x\", \"position_y\"], frame_col=\"frame\"\n",
    ")"
   ]
  },
  {
   "cell_type": "code",
   "execution_count": 5,
   "id": "8fe2bf20",
   "metadata": {},
   "outputs": [],
   "source": [
    "tree_geff = data_conversion.dataframes_to_geff_networkx(\n",
    "    track_df,\n",
    "    split_df,\n",
    "    merge_df,\n",
    "    coordinate_cols=[\"position_x\", \"position_y\"],\n",
    "    frame_col=\"frame\",\n",
    ")"
   ]
  },
  {
   "cell_type": "code",
   "execution_count": 6,
   "id": "56da38ad",
   "metadata": {},
   "outputs": [
    {
     "data": {
      "text/plain": [
       "{'frame': 0,\n",
       " 'position_x': np.float64(178.4125746427294),\n",
       " 'position_y': np.float64(185.18866073671265)}"
      ]
     },
     "execution_count": 6,
     "metadata": {},
     "output_type": "execute_result"
    }
   ],
   "source": [
    "tree_geff.nodes[0]"
   ]
  },
  {
   "cell_type": "code",
   "execution_count": 7,
   "id": "3329e792",
   "metadata": {},
   "outputs": [],
   "source": [
    "geff.write_nx(tree_geff, \"/tmp/tree.geff\")"
   ]
  },
  {
   "cell_type": "code",
   "execution_count": 10,
   "id": "9274242d",
   "metadata": {},
   "outputs": [],
   "source": [
    "import geff.geff_reader\n",
    "\n",
    "\n",
    "geff_dict = geff.geff_reader.read_to_dict(\"/tmp/tree.geff\")"
   ]
  },
  {
   "cell_type": "code",
   "execution_count": null,
   "id": "03aceabf",
   "metadata": {},
   "outputs": [],
   "source": []
  }
 ],
 "metadata": {
  "kernelspec": {
   "display_name": ".venv",
   "language": "python",
   "name": "python3"
  },
  "language_info": {
   "codemirror_mode": {
    "name": "ipython",
    "version": 3
   },
   "file_extension": ".py",
   "mimetype": "text/x-python",
   "name": "python",
   "nbconvert_exporter": "python",
   "pygments_lexer": "ipython3",
   "version": "3.12.11"
  }
 },
 "nbformat": 4,
 "nbformat_minor": 5
}
