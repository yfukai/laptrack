{
 "cells": [
  {
   "cell_type": "markdown",
   "id": "5d299db0",
   "metadata": {},
   "source": [
    "# Example of reading / saving data from / to GEFF"
   ]
  },
  {
   "cell_type": "markdown",
   "id": "bc43f159",
   "metadata": {},
   "source": [
    "This example illustrates how we can save the tracked data into a [GEFF (Graph Exchange File Format)](https://github.com/live-image-tracking-tools/geff).\n",
    "\n",
    "The GEFF file can be visualized in `napari` by [napari-geff](https://github.com/live-image-tracking-tools/napari-geff)."
   ]
  },
  {
   "cell_type": "code",
   "execution_count": 8,
   "id": "b12fc821",
   "metadata": {},
   "outputs": [
    {
     "name": "stdout",
     "output_type": "stream",
     "text": [
      "Temporary files will be stored in: /var/folders/pz/_dlzclyn4mjgvngf1dpfg_880000gn/T\n"
     ]
    }
   ],
   "source": [
    "from laptrack import LapTrack\n",
    "from laptrack import data_conversion\n",
    "from laptrack import datasets\n",
    "import geff\n",
    "import tempfile\n",
    "from skimage.measure import regionprops_table\n",
    "import pandas as pd\n",
    "from pathlib import Path\n",
    "import warnings\n",
    "import shutil\n",
    "\n",
    "warnings.filterwarnings(\"ignore\", category=UserWarning)\n",
    "tmp_path = Path(tempfile.gettempdir())\n",
    "print(f\"Temporary files will be stored in: {tmp_path}\")"
   ]
  },
  {
   "cell_type": "markdown",
   "id": "b586a66c",
   "metadata": {},
   "source": [
    "## Prepare data by centroid tracking"
   ]
  },
  {
   "cell_type": "markdown",
   "id": "d42fcb1b",
   "metadata": {},
   "source": [
    "### Calculate regionprops"
   ]
  },
  {
   "cell_type": "code",
   "execution_count": 2,
   "id": "d68146f4",
   "metadata": {},
   "outputs": [
    {
     "data": {
      "text/html": [
       "<div>\n",
       "<style scoped>\n",
       "    .dataframe tbody tr th:only-of-type {\n",
       "        vertical-align: middle;\n",
       "    }\n",
       "\n",
       "    .dataframe tbody tr th {\n",
       "        vertical-align: top;\n",
       "    }\n",
       "\n",
       "    .dataframe thead th {\n",
       "        text-align: right;\n",
       "    }\n",
       "</style>\n",
       "<table border=\"1\" class=\"dataframe\">\n",
       "  <thead>\n",
       "    <tr style=\"text-align: right;\">\n",
       "      <th></th>\n",
       "      <th>seg_id</th>\n",
       "      <th>y</th>\n",
       "      <th>x</th>\n",
       "      <th>frame</th>\n",
       "    </tr>\n",
       "  </thead>\n",
       "  <tbody>\n",
       "    <tr>\n",
       "      <th>0</th>\n",
       "      <td>1</td>\n",
       "      <td>137.033613</td>\n",
       "      <td>96.336134</td>\n",
       "      <td>0</td>\n",
       "    </tr>\n",
       "    <tr>\n",
       "      <th>1</th>\n",
       "      <td>2</td>\n",
       "      <td>145.068966</td>\n",
       "      <td>178.988506</td>\n",
       "      <td>0</td>\n",
       "    </tr>\n",
       "    <tr>\n",
       "      <th>2</th>\n",
       "      <td>3</td>\n",
       "      <td>123.091743</td>\n",
       "      <td>203.266055</td>\n",
       "      <td>0</td>\n",
       "    </tr>\n",
       "    <tr>\n",
       "      <th>3</th>\n",
       "      <td>4</td>\n",
       "      <td>62.716216</td>\n",
       "      <td>141.290541</td>\n",
       "      <td>0</td>\n",
       "    </tr>\n",
       "    <tr>\n",
       "      <th>4</th>\n",
       "      <td>5</td>\n",
       "      <td>32.976744</td>\n",
       "      <td>124.348837</td>\n",
       "      <td>0</td>\n",
       "    </tr>\n",
       "  </tbody>\n",
       "</table>\n",
       "</div>"
      ],
      "text/plain": [
       "   seg_id           y           x  frame\n",
       "0       1  137.033613   96.336134      0\n",
       "1       2  145.068966  178.988506      0\n",
       "2       3  123.091743  203.266055      0\n",
       "3       4   62.716216  141.290541      0\n",
       "4       5   32.976744  124.348837      0"
      ]
     },
     "execution_count": 2,
     "metadata": {},
     "output_type": "execute_result"
    }
   ],
   "source": [
    "image, labels = datasets.cell_segmentation()\n",
    "regionprops = []\n",
    "for frame, label in enumerate(labels):\n",
    "    df = pd.DataFrame(regionprops_table(label, properties=[\"label\", \"centroid\"]))\n",
    "    df[\"frame\"] = frame\n",
    "    regionprops.append(df)\n",
    "regionprops_df = pd.concat(regionprops).rename(\n",
    "    columns={\"centroid-0\": \"y\", \"centroid-1\": \"x\", \"label\": \"seg_id\"}\n",
    ")\n",
    "coordinate_cols = [\"y\", \"x\"]\n",
    "frame_col = \"frame\"\n",
    "regionprops_df.head()"
   ]
  },
  {
   "cell_type": "markdown",
   "id": "a35a4ec1",
   "metadata": {},
   "source": [
    "### Tracking with LapTrack"
   ]
  },
  {
   "cell_type": "code",
   "execution_count": 3,
   "id": "5fec4807",
   "metadata": {},
   "outputs": [],
   "source": [
    "lt = LapTrack(\n",
    "    metric=\"sqeuclidean\",\n",
    "    cutoff=15**2,\n",
    "    splitting_metric=\"sqeuclidean\",\n",
    "    merging_metric=\"sqeuclidean\",\n",
    "    splitting_cutoff=15**2,\n",
    "    merging_cutoff=15**2,\n",
    ")"
   ]
  },
  {
   "cell_type": "code",
   "execution_count": 4,
   "id": "fd7878b5",
   "metadata": {},
   "outputs": [
    {
     "data": {
      "text/html": [
       "<div>\n",
       "<style scoped>\n",
       "    .dataframe tbody tr th:only-of-type {\n",
       "        vertical-align: middle;\n",
       "    }\n",
       "\n",
       "    .dataframe tbody tr th {\n",
       "        vertical-align: top;\n",
       "    }\n",
       "\n",
       "    .dataframe thead th {\n",
       "        text-align: right;\n",
       "    }\n",
       "</style>\n",
       "<table border=\"1\" class=\"dataframe\">\n",
       "  <thead>\n",
       "    <tr style=\"text-align: right;\">\n",
       "      <th></th>\n",
       "      <th>seg_id</th>\n",
       "      <th>y</th>\n",
       "      <th>x</th>\n",
       "      <th>frame</th>\n",
       "    </tr>\n",
       "  </thead>\n",
       "  <tbody>\n",
       "    <tr>\n",
       "      <th>0</th>\n",
       "      <td>1</td>\n",
       "      <td>137.033613</td>\n",
       "      <td>96.336134</td>\n",
       "      <td>0</td>\n",
       "    </tr>\n",
       "    <tr>\n",
       "      <th>1</th>\n",
       "      <td>2</td>\n",
       "      <td>145.068966</td>\n",
       "      <td>178.988506</td>\n",
       "      <td>0</td>\n",
       "    </tr>\n",
       "    <tr>\n",
       "      <th>2</th>\n",
       "      <td>3</td>\n",
       "      <td>123.091743</td>\n",
       "      <td>203.266055</td>\n",
       "      <td>0</td>\n",
       "    </tr>\n",
       "    <tr>\n",
       "      <th>3</th>\n",
       "      <td>4</td>\n",
       "      <td>62.716216</td>\n",
       "      <td>141.290541</td>\n",
       "      <td>0</td>\n",
       "    </tr>\n",
       "    <tr>\n",
       "      <th>4</th>\n",
       "      <td>5</td>\n",
       "      <td>32.976744</td>\n",
       "      <td>124.348837</td>\n",
       "      <td>0</td>\n",
       "    </tr>\n",
       "  </tbody>\n",
       "</table>\n",
       "</div>"
      ],
      "text/plain": [
       "   seg_id           y           x  frame\n",
       "0       1  137.033613   96.336134      0\n",
       "1       2  145.068966  178.988506      0\n",
       "2       3  123.091743  203.266055      0\n",
       "3       4   62.716216  141.290541      0\n",
       "4       5   32.976744  124.348837      0"
      ]
     },
     "execution_count": 4,
     "metadata": {},
     "output_type": "execute_result"
    }
   ],
   "source": [
    "regionprops_df.head()"
   ]
  },
  {
   "cell_type": "code",
   "execution_count": 5,
   "id": "49ae32cc",
   "metadata": {},
   "outputs": [
    {
     "data": {
      "text/html": [
       "<div>\n",
       "<style scoped>\n",
       "    .dataframe tbody tr th:only-of-type {\n",
       "        vertical-align: middle;\n",
       "    }\n",
       "\n",
       "    .dataframe tbody tr th {\n",
       "        vertical-align: top;\n",
       "    }\n",
       "\n",
       "    .dataframe thead th {\n",
       "        text-align: right;\n",
       "    }\n",
       "</style>\n",
       "<table border=\"1\" class=\"dataframe\">\n",
       "  <thead>\n",
       "    <tr style=\"text-align: right;\">\n",
       "      <th></th>\n",
       "      <th>seg_id</th>\n",
       "      <th>y</th>\n",
       "      <th>x</th>\n",
       "      <th>frame</th>\n",
       "      <th>tree_id</th>\n",
       "      <th>track_id</th>\n",
       "    </tr>\n",
       "  </thead>\n",
       "  <tbody>\n",
       "    <tr>\n",
       "      <th>0</th>\n",
       "      <td>1</td>\n",
       "      <td>137.033613</td>\n",
       "      <td>96.336134</td>\n",
       "      <td>0</td>\n",
       "      <td>0</td>\n",
       "      <td>0</td>\n",
       "    </tr>\n",
       "    <tr>\n",
       "      <th>1</th>\n",
       "      <td>2</td>\n",
       "      <td>145.068966</td>\n",
       "      <td>178.988506</td>\n",
       "      <td>0</td>\n",
       "      <td>1</td>\n",
       "      <td>1</td>\n",
       "    </tr>\n",
       "    <tr>\n",
       "      <th>2</th>\n",
       "      <td>3</td>\n",
       "      <td>123.091743</td>\n",
       "      <td>203.266055</td>\n",
       "      <td>0</td>\n",
       "      <td>2</td>\n",
       "      <td>2</td>\n",
       "    </tr>\n",
       "    <tr>\n",
       "      <th>3</th>\n",
       "      <td>4</td>\n",
       "      <td>62.716216</td>\n",
       "      <td>141.290541</td>\n",
       "      <td>0</td>\n",
       "      <td>3</td>\n",
       "      <td>3</td>\n",
       "    </tr>\n",
       "    <tr>\n",
       "      <th>4</th>\n",
       "      <td>5</td>\n",
       "      <td>32.976744</td>\n",
       "      <td>124.348837</td>\n",
       "      <td>0</td>\n",
       "      <td>4</td>\n",
       "      <td>4</td>\n",
       "    </tr>\n",
       "  </tbody>\n",
       "</table>\n",
       "</div>"
      ],
      "text/plain": [
       "   seg_id           y           x  frame  tree_id  track_id\n",
       "0       1  137.033613   96.336134      0        0         0\n",
       "1       2  145.068966  178.988506      0        1         1\n",
       "2       3  123.091743  203.266055      0        2         2\n",
       "3       4   62.716216  141.290541      0        3         3\n",
       "4       5   32.976744  124.348837      0        4         4"
      ]
     },
     "metadata": {},
     "output_type": "display_data"
    },
    {
     "data": {
      "text/html": [
       "<div>\n",
       "<style scoped>\n",
       "    .dataframe tbody tr th:only-of-type {\n",
       "        vertical-align: middle;\n",
       "    }\n",
       "\n",
       "    .dataframe tbody tr th {\n",
       "        vertical-align: top;\n",
       "    }\n",
       "\n",
       "    .dataframe thead th {\n",
       "        text-align: right;\n",
       "    }\n",
       "</style>\n",
       "<table border=\"1\" class=\"dataframe\">\n",
       "  <thead>\n",
       "    <tr style=\"text-align: right;\">\n",
       "      <th></th>\n",
       "      <th>parent_track_id</th>\n",
       "      <th>child_track_id</th>\n",
       "    </tr>\n",
       "  </thead>\n",
       "  <tbody>\n",
       "    <tr>\n",
       "      <th>0</th>\n",
       "      <td>6</td>\n",
       "      <td>9</td>\n",
       "    </tr>\n",
       "    <tr>\n",
       "      <th>1</th>\n",
       "      <td>6</td>\n",
       "      <td>8</td>\n",
       "    </tr>\n",
       "    <tr>\n",
       "      <th>2</th>\n",
       "      <td>7</td>\n",
       "      <td>10</td>\n",
       "    </tr>\n",
       "    <tr>\n",
       "      <th>3</th>\n",
       "      <td>7</td>\n",
       "      <td>11</td>\n",
       "    </tr>\n",
       "  </tbody>\n",
       "</table>\n",
       "</div>"
      ],
      "text/plain": [
       "   parent_track_id  child_track_id\n",
       "0                6               9\n",
       "1                6               8\n",
       "2                7              10\n",
       "3                7              11"
      ]
     },
     "metadata": {},
     "output_type": "display_data"
    },
    {
     "data": {
      "text/html": [
       "<div>\n",
       "<style scoped>\n",
       "    .dataframe tbody tr th:only-of-type {\n",
       "        vertical-align: middle;\n",
       "    }\n",
       "\n",
       "    .dataframe tbody tr th {\n",
       "        vertical-align: top;\n",
       "    }\n",
       "\n",
       "    .dataframe thead th {\n",
       "        text-align: right;\n",
       "    }\n",
       "</style>\n",
       "<table border=\"1\" class=\"dataframe\">\n",
       "  <thead>\n",
       "    <tr style=\"text-align: right;\">\n",
       "      <th></th>\n",
       "      <th>parent_track_id</th>\n",
       "      <th>child_track_id</th>\n",
       "    </tr>\n",
       "  </thead>\n",
       "  <tbody>\n",
       "  </tbody>\n",
       "</table>\n",
       "</div>"
      ],
      "text/plain": [
       "Empty DataFrame\n",
       "Columns: [parent_track_id, child_track_id]\n",
       "Index: []"
      ]
     },
     "metadata": {},
     "output_type": "display_data"
    }
   ],
   "source": [
    "track_df, split_df, merge_df = lt.predict_dataframe(\n",
    "    regionprops_df,\n",
    "    coordinate_cols=coordinate_cols,\n",
    "    frame_col=frame_col,\n",
    ")\n",
    "\n",
    "display(track_df.head())\n",
    "display(split_df.head())\n",
    "display(merge_df.head())"
   ]
  },
  {
   "cell_type": "markdown",
   "id": "d9ae947e",
   "metadata": {},
   "source": [
    "## Save to GEFF"
   ]
  },
  {
   "cell_type": "code",
   "execution_count": 6,
   "id": "8fe2bf20",
   "metadata": {},
   "outputs": [],
   "source": [
    "geff_networks = data_conversion.dataframes_to_geff_networkx(\n",
    "    track_df,\n",
    "    split_df,\n",
    "    merge_df,\n",
    "    frame_col=frame_col,\n",
    ")\n",
    "for track_id in geff_networks.lineage_tree.nodes:\n",
    "    geff_networks.lineage_tree.nodes[track_id][\"length\"] = len(\n",
    "        list(\n",
    "            filter(\n",
    "                lambda n: n[1][\"track_id\"] == track_id,\n",
    "                geff_networks.tree.nodes(data=True),\n",
    "            )\n",
    "        )\n",
    "    )"
   ]
  },
  {
   "cell_type": "code",
   "execution_count": 7,
   "id": "56da38ad",
   "metadata": {},
   "outputs": [
    {
     "name": "stdout",
     "output_type": "stream",
     "text": [
      "{'frame': 0, 'seg_id': np.float64(1.0), 'y': np.float64(137.03361344537817), 'x': np.float64(96.33613445378151), 'tree_id': np.float64(0.0), 'track_id': np.float64(0.0)}\n",
      "{'length': 10}\n"
     ]
    }
   ],
   "source": [
    "print(geff_networks.tree.nodes[0])\n",
    "print(geff_networks.lineage_tree.nodes[0])"
   ]
  },
  {
   "cell_type": "code",
   "execution_count": 10,
   "id": "3329e792",
   "metadata": {},
   "outputs": [
    {
     "name": "stdout",
     "output_type": "stream",
     "text": [
      "edges  linage_tree.geff  nodes\n",
      "length\n"
     ]
    }
   ],
   "source": [
    "f = Path(tmp_path) / \"tree.geff\"\n",
    "shutil.rmtree(f)\n",
    "geff.write_nx(\n",
    "    geff_networks.tree,\n",
    "    f,\n",
    "    axis_names=[frame_col] + coordinate_cols,\n",
    "    axis_types=[\"time\", \"space\", \"space\"],\n",
    "    axis_units=[\"frame\", \"px\", \"px\"],\n",
    ")\n",
    "geff.validate(f)\n",
    "\n",
    "geff.write_nx(\n",
    "    geff_networks.lineage_tree,\n",
    "    f / \"linage_tree.geff\",\n",
    ")\n",
    "!ls {tmp_path}/\"tree.geff\"\n",
    "!ls {f / \"linage_tree.geff\" / \"nodes\" / \"props\"}"
   ]
  },
  {
   "cell_type": "code",
   "execution_count": null,
   "id": "e9a44ebd",
   "metadata": {},
   "outputs": [],
   "source": []
  }
 ],
 "metadata": {
  "kernelspec": {
   "display_name": "laptrack-py3.12",
   "language": "python",
   "name": "python3"
  },
  "language_info": {
   "codemirror_mode": {
    "name": "ipython",
    "version": 3
   },
   "file_extension": ".py",
   "mimetype": "text/x-python",
   "name": "python",
   "nbconvert_exporter": "python",
   "pygments_lexer": "ipython3",
   "version": "3.12.11"
  }
 },
 "nbformat": 4,
 "nbformat_minor": 5
}
